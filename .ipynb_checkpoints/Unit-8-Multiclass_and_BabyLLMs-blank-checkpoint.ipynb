{
 "cells": [
  {
   "cell_type": "code",
   "execution_count": 2,
   "id": "36b081e8",
   "metadata": {},
   "outputs": [],
   "source": [
    "import pandas as pd\n",
    "import torch\n",
    "import torch.nn as nn\n",
    "import torch.optim as optim\n",
    "import torch.nn.functional as F\n",
    "from torch.utils.data import DataLoader, TensorDataset\n",
    "from sklearn.model_selection import train_test_split\n",
    "from sklearn.preprocessing import StandardScaler\n",
    "from palmerpenguins import load_penguins\n",
    "from sklearn.metrics import accuracy_score, classification_report, confusion_matrix\n",
    "import seaborn as sns\n",
    "import matplotlib.pyplot as plt\n"
   ]
  },
  {
   "cell_type": "code",
   "execution_count": 50,
   "id": "0422a338",
   "metadata": {},
   "outputs": [],
   "source": [
    "peng = load_penguins()"
   ]
  },
  {
   "cell_type": "markdown",
   "id": "329c7748",
   "metadata": {},
   "source": [
    "#### Pre-processing data\n",
    "* Using pd.factorize(), transform the categorical variables into numbers.\n",
    "* Afterward, impute the missing values for each column by the mean.\n",
    "* Then, using train_test_split, generate a 80-20 split"
   ]
  },
  {
   "cell_type": "code",
   "execution_count": 51,
   "id": "6a3de649",
   "metadata": {},
   "outputs": [
    {
     "data": {
      "text/plain": [
       "Index(['species', 'island', 'sex'], dtype='object')"
      ]
     },
     "execution_count": 51,
     "metadata": {},
     "output_type": "execute_result"
    }
   ],
   "source": [
    "# your code\n",
    "category_columns = peng.select_dtypes(include=['object']).columns\n",
    "category_columns"
   ]
  },
  {
   "cell_type": "code",
   "execution_count": 52,
   "id": "2eee40e4-7a13-4c08-b804-54a797094d53",
   "metadata": {},
   "outputs": [],
   "source": [
    "peng[category_columns] = peng[category_columns].apply(lambda x: pd.factorize(x)[0])\n"
   ]
  },
  {
   "cell_type": "code",
   "execution_count": 53,
   "id": "df28785b-5796-46ee-82cd-52c5aefb2a41",
   "metadata": {},
   "outputs": [
    {
     "data": {
      "text/plain": [
       "species\n",
       "0    152\n",
       "1    124\n",
       "2     68\n",
       "Name: count, dtype: int64"
      ]
     },
     "execution_count": 53,
     "metadata": {},
     "output_type": "execute_result"
    }
   ],
   "source": [
    "peng.species.value_counts()"
   ]
  },
  {
   "cell_type": "code",
   "execution_count": 54,
   "id": "7d2abb44",
   "metadata": {},
   "outputs": [],
   "source": [
    "peng.fillna(peng.mean(), inplace = True)\n"
   ]
  },
  {
   "cell_type": "code",
   "execution_count": 55,
   "id": "681c801e-2aa6-4581-8ca0-4339b5767cfb",
   "metadata": {},
   "outputs": [],
   "source": [
    "X = peng.drop(columns=['species'])\n",
    "y = peng.species\n",
    "X_train, X_test, y_train, y_test = train_test_split(X, y, test_size=0.2, random_state=42)"
   ]
  },
  {
   "cell_type": "code",
   "execution_count": 57,
   "id": "6d619c93",
   "metadata": {},
   "outputs": [],
   "source": [
    "# your code here\n",
    "\n",
    "scaler = StandardScaler()\n",
    "X_train = scaler.fit_transform(X_train)\n",
    "X_test = scaler.transform(X_test)\n",
    "\n",
    "# Convert to PyTorch tensors\n",
    "X_train_tensor = torch.tensor(X_train, dtype=torch.float32)\n",
    "y_train_tensor = torch.tensor(y_train.values, dtype=torch.long)\n",
    "X_test_tensor = torch.tensor(X_test, dtype=torch.float32)\n",
    "y_test_tensor = torch.tensor(y_test.values, dtype=torch.long)"
   ]
  },
  {
   "cell_type": "code",
   "execution_count": 59,
   "id": "0b05ba9a",
   "metadata": {},
   "outputs": [],
   "source": [
    "# Define model\n",
    "class penguinNet(nn.Module):\n",
    "    def __init__(self, input_size, hidden_size, output_size):\n",
    "        super(penguinNet, self).__init__()\n",
    "        self.fc1 = nn.Linear(input_size, hidden_size)   # Input layer to hidden layer\n",
    "        self.fc2 = nn.Linear(hidden_size, hidden_size)   # Input layer to hidden layer\n",
    "        self.fc3 = nn.Linear(hidden_size, hidden_size)   # Input layer to hidden layer\n",
    "        self.fc4 = nn.Linear(hidden_size, output_size)   # Input layer to hidden layer\n",
    "\n",
    "        #your architecture\n",
    "        \n",
    "    def forward(self, x):\n",
    "        # your forward solution\n",
    "        x = self.fc1(x)\n",
    "        x = torch.relu(x)  # ReLU activation for hidden layer\n",
    "        x = self.fc2(x)\n",
    "        x = torch.relu(x)  # ReLU activation for hidden layer\n",
    "        x = self.fc3(x)\n",
    "        x = torch.relu(x)  # ReLU activation for hidden layer\n",
    "        x = self.fc4(x)\n",
    "        x = torch.sigmoid(x)  # Sigmoid activation for output layer\n",
    "        return x\n",
    "        # note the last pass does not need to go through activation / non-linear"
   ]
  },
  {
   "cell_type": "code",
   "execution_count": 60,
   "id": "cae74a5d",
   "metadata": {},
   "outputs": [],
   "source": [
    "# Model parameters / You can vary this as you wish\n",
    "input_size = 7\n",
    "hidden_size = 16\n",
    "output_size = 3\n",
    "model = penguinNet(input_size, hidden_size, output_size)\n",
    "\n",
    "# Loss and optimizer\n",
    "criterion = nn.CrossEntropyLoss()\n",
    "optimizer = optim.Adam(model.parameters(), lr=0.01)"
   ]
  },
  {
   "cell_type": "code",
   "execution_count": 61,
   "id": "322f4faa",
   "metadata": {},
   "outputs": [
    {
     "name": "stdout",
     "output_type": "stream",
     "text": [
      "Epoch [1000/1000], Loss: 0.5514\n"
     ]
    }
   ],
   "source": [
    "# Training loop\n",
    "num_epochs = 1000\n",
    "for epoch in range(num_epochs):\n",
    "    # your training loop\n",
    "     # Forward pass: compute the output and loss\n",
    "    y_pred = model(X_train_tensor)\n",
    "    loss = criterion(y_pred, y_train_tensor)\n",
    "    \n",
    "    # Backward pass and optimization\n",
    "    optimizer.zero_grad()   # Zero out gradients from the previous step\n",
    "    loss.backward()         # Compute new gradients\n",
    "    optimizer.step()        # Update parameters\n",
    "\n",
    "    # Print the loss every 1000 epochs\n",
    "    if (epoch + 1) % 1000 == 0:\n",
    "        print(f\"Epoch [{epoch + 1}/{num_epochs}], Loss: {loss.item():.4f}\")"
   ]
  },
  {
   "cell_type": "markdown",
   "id": "741f0cd9",
   "metadata": {},
   "source": [
    "#### Run this to evaluate your model!"
   ]
  },
  {
   "cell_type": "code",
   "execution_count": 62,
   "id": "0c9c3218",
   "metadata": {},
   "outputs": [
    {
     "name": "stdout",
     "output_type": "stream",
     "text": [
      "Test Accuracy: 100.00%\n"
     ]
    }
   ],
   "source": [
    "with torch.no_grad():\n",
    "    # Forward pass on the test set\n",
    "    outputs = model(X_test_tensor)\n",
    "    \n",
    "    # Get predicted classes\n",
    "    _, ypred = torch.max(outputs, 1)\n",
    "    \n",
    "    # Calculate accuracy\n",
    "    total = y_test_tensor.size(0)\n",
    "    correct = (ypred == y_test_tensor).sum().item()\n",
    "    accuracy = correct / total * 100\n",
    "    print(f\"Test Accuracy: {accuracy:.2f}%\")"
   ]
  },
  {
   "cell_type": "markdown",
   "id": "7a5c6392",
   "metadata": {},
   "source": [
    "### Generate a confusion matrix of the classifications"
   ]
  },
  {
   "cell_type": "code",
   "execution_count": 63,
   "id": "abb15f7d-0af0-4021-ad04-bb564db644fe",
   "metadata": {},
   "outputs": [
    {
     "data": {
      "text/plain": [
       "tensor([1, 1, 1, 1, 2, 2, 2, 1, 0, 1, 2, 0, 0, 0, 2, 0, 0, 1, 2, 0, 0, 0, 1, 0,\n",
       "        1, 1, 0, 1, 0, 1, 0, 0, 1, 0, 0, 0, 2, 1, 0, 1, 2, 2, 2, 0, 0, 0, 1, 0,\n",
       "        0, 1, 0, 1, 2, 0, 0, 1, 0, 1, 1, 1, 1, 0, 2, 0, 2, 1, 0, 0, 0])"
      ]
     },
     "execution_count": 63,
     "metadata": {},
     "output_type": "execute_result"
    }
   ],
   "source": [
    "y_test_tensor"
   ]
  },
  {
   "cell_type": "code",
   "execution_count": 65,
   "id": "04e8f4c6",
   "metadata": {},
   "outputs": [
    {
     "data": {
      "image/png": "[encoded data removed]",
      "text/plain": [
       "<Figure size 640x480 with 2 Axes>"
      ]
     },
     "metadata": {},
     "output_type": "display_data"
    }
   ],
   "source": [
    "# Plot confusion matrix\n",
    "confusion_dt = confusion_matrix(y_test_tensor, ypred)\n",
    "\n",
    "sns.heatmap(confusion_dt, annot=True, fmt='d', cmap='Blues', \n",
    "            xticklabels=['Species 1', 'Species 2', 'Species 3'], \n",
    "            yticklabels=['Species 1', 'Species 2', 'Species 3'])\n",
    "\n",
    "plt.xlabel('Predicted')\n",
    "plt.ylabel('Actual')\n",
    "plt.show()"
   ]
  },
  {
   "cell_type": "code",
   "execution_count": null,
   "id": "dc64b4de",
   "metadata": {},
   "outputs": [],
   "source": []
  },
  {
   "cell_type": "code",
   "execution_count": null,
   "id": "1695fdb5",
   "metadata": {},
   "outputs": [],
   "source": []
  },
  {
   "cell_type": "markdown",
   "id": "78f84d12",
   "metadata": {},
   "source": [
    "# Word2Vec: The Prehistoric LLM"
   ]
  },
  {
   "cell_type": "code",
   "execution_count": 3,
   "id": "1f2bc8a6",
   "metadata": {},
   "outputs": [],
   "source": [
    "# Import libraries\n",
    "import nltk\n",
    "from nltk.corpus import reuters\n",
    "from nltk.tokenize import word_tokenize\n",
    "from gensim.models import Word2Vec\n",
    "import matplotlib.pyplot as plt\n",
    "from sklearn.decomposition import PCA\n",
    "from sklearn.manifold import TSNE\n",
    "import numpy as np"
   ]
  },
  {
   "cell_type": "code",
   "execution_count": 5,
   "id": "a1bbcdbf",
   "metadata": {},
   "outputs": [
    {
     "name": "stderr",
     "output_type": "stream",
     "text": [
      "[nltk_data] Downloading package reuters to\n",
      "[nltk_data]     /Users/gabriellepark/nltk_data...\n",
      "[nltk_data]   Package reuters is already up-to-date!\n",
      "[nltk_data] Downloading package punkt to\n",
      "[nltk_data]     /Users/gabriellepark/nltk_data...\n",
      "[nltk_data]   Package punkt is already up-to-date!\n"
     ]
    },
    {
     "data": {
      "text/plain": [
       "True"
      ]
     },
     "execution_count": 5,
     "metadata": {},
     "output_type": "execute_result"
    }
   ],
   "source": [
    "# Download necessary NLTK data files\n",
    "nltk.download('reuters')\n",
    "nltk.download('punkt')"
   ]
  },
  {
   "cell_type": "code",
   "execution_count": 6,
   "id": "b22fa03c",
   "metadata": {},
   "outputs": [
    {
     "name": "stdout",
     "output_type": "stream",
     "text": [
      "Example sentences:\n",
      "['asian', 'exporters', 'fear', 'damage', 'from', 'u', 's', 'japan', 'rift', 'mounting', 'trade', 'friction', 'between', 'the', 'u', 's', 'and', 'japan', 'has', 'raised', 'fears', 'among', 'many', 'of', 'asia', 's', 'exporting', 'nations', 'that', 'the', 'row', 'could', 'inflict', 'far', 'reaching', 'economic', 'damage', 'businessmen', 'and', 'officials', 'said', 'they', 'told', 'reuter', 'correspondents', 'in', 'asian', 'capitals', 'a', 'u', 's', 'move', 'against', 'japan', 'might', 'boost', 'protectionist', 'sentiment', 'in', 'the', 'u', 's', 'and', 'lead', 'to', 'curbs', 'on', 'american', 'imports', 'of', 'their', 'products', 'but', 'some', 'exporters', 'said', 'that', 'while', 'the', 'conflict', 'would', 'hurt', 'them', 'in', 'the', 'long', 'run', 'in', 'the', 'short', 'term', 'tokyo', 's', 'loss', 'might', 'be', 'their', 'gain', 'the', 'u', 's', 'has', 'said', 'it', 'will', 'impose', 'mln', 'dlrs', 'of', 'tariffs', 'on', 'imports', 'of', 'japanese', 'electronics', 'goods', 'on', 'april', 'in', 'retaliation', 'for', 'japan', 's', 'alleged', 'failure', 'to', 'stick', 'to', 'a', 'pact', 'not', 'to', 'sell', 'semiconductors', 'on', 'world', 'markets', 'at', 'below', 'cost', 'unofficial', 'japanese', 'estimates', 'put', 'the', 'impact', 'of', 'the', 'tariffs', 'at', 'billion', 'dlrs', 'and', 'spokesmen', 'for', 'major', 'electronics', 'firms', 'said', 'they', 'would', 'virtually', 'halt', 'exports', 'of', 'products', 'hit', 'by', 'the', 'new', 'taxes', 'we', 'wouldn', 't', 'be', 'able', 'to', 'do', 'business', 'said', 'a', 'spokesman', 'for', 'leading', 'japanese', 'electronics', 'firm', 'matsushita', 'electric', 'industrial', 'co', 'ltd', 'lt', 'mc', 't', 'if', 'the', 'tariffs', 'remain', 'in', 'place', 'for', 'any', 'length', 'of', 'time', 'beyond', 'a', 'few', 'months', 'it', 'will', 'mean', 'the', 'complete', 'erosion', 'of', 'exports', 'of', 'goods', 'subject', 'to', 'tariffs', 'to', 'the', 'u', 's', 'said', 'tom', 'murtha', 'a', 'stock', 'analyst', 'at', 'the', 'tokyo', 'office', 'of', 'broker', 'lt', 'james', 'capel', 'and', 'co', 'in', 'taiwan', 'businessmen', 'and', 'officials', 'are', 'also', 'worried', 'we', 'are', 'aware', 'of', 'the', 'seriousness', 'of', 'the', 'u', 's', 'threat', 'against', 'japan', 'because', 'it', 'serves', 'as', 'a', 'warning', 'to', 'us', 'said', 'a', 'senior', 'taiwanese', 'trade', 'official', 'who', 'asked', 'not', 'to', 'be', 'named', 'taiwan', 'had', 'a', 'trade', 'trade', 'surplus', 'of', 'billion', 'dlrs', 'last', 'year', 'pct', 'of', 'it', 'with', 'the', 'u', 's', 'the', 'surplus', 'helped', 'swell', 'taiwan', 's', 'foreign', 'exchange', 'reserves', 'to', 'billion', 'dlrs', 'among', 'the', 'world', 's', 'largest', 'we', 'must', 'quickly', 'open', 'our', 'markets', 'remove', 'trade', 'barriers', 'and', 'cut', 'import', 'tariffs', 'to', 'allow', 'imports', 'of', 'u', 's', 'products', 'if', 'we', 'want', 'to', 'defuse', 'problems', 'from', 'possible', 'u', 's', 'retaliation', 'said', 'paul', 'sheen', 'chairman', 'of', 'textile', 'exporters', 'lt', 'taiwan', 'safe', 'group', 'a', 'senior', 'official', 'of', 'south', 'korea', 's', 'trade', 'promotion', 'association', 'said', 'the', 'trade', 'dispute', 'between', 'the', 'u', 's', 'and', 'japan', 'might', 'also', 'lead', 'to', 'pressure', 'on', 'south', 'korea', 'whose', 'chief', 'exports', 'are', 'similar', 'to', 'those', 'of', 'japan', 'last', 'year', 'south', 'korea', 'had', 'a', 'trade', 'surplus', 'of', 'billion', 'dlrs', 'with', 'the', 'u', 's', 'up', 'from', 'billion', 'dlrs', 'in', 'in', 'malaysia', 'trade', 'officers', 'and', 'businessmen', 'said', 'tough', 'curbs', 'against', 'japan', 'might', 'allow', 'hard', 'hit', 'producers', 'of', 'semiconductors', 'in', 'third', 'countries', 'to', 'expand', 'their', 'sales', 'to', 'the', 'u', 's', 'in', 'hong', 'kong', 'where', 'newspapers', 'have', 'alleged', 'japan', 'has', 'been', 'selling', 'below', 'cost', 'semiconductors', 'some', 'electronics', 'manufacturers', 'share', 'that', 'view', 'but', 'other', 'businessmen', 'said', 'such', 'a', 'short', 'term', 'commercial', 'advantage', 'would', 'be', 'outweighed', 'by', 'further', 'u', 's', 'pressure', 'to', 'block', 'imports', 'that', 'is', 'a', 'very', 'short', 'term', 'view', 'said', 'lawrence', 'mills', 'director', 'general', 'of', 'the', 'federation', 'of', 'hong', 'kong', 'industry', 'if', 'the', 'whole', 'purpose', 'is', 'to', 'prevent', 'imports', 'one', 'day', 'it', 'will', 'be', 'extended', 'to', 'other', 'sources', 'much', 'more', 'serious', 'for', 'hong', 'kong', 'is', 'the', 'disadvantage', 'of', 'action', 'restraining', 'trade', 'he', 'said', 'the', 'u', 's', 'last', 'year', 'was', 'hong', 'kong', 's', 'biggest', 'export', 'market', 'accounting', 'for', 'over', 'pct', 'of', 'domestically', 'produced', 'exports', 'the', 'australian', 'government', 'is', 'awaiting', 'the', 'outcome', 'of', 'trade', 'talks', 'between', 'the', 'u', 's', 'and', 'japan', 'with', 'interest', 'and', 'concern', 'industry', 'minister', 'john', 'button', 'said', 'in', 'canberra', 'last', 'friday', 'this', 'kind', 'of', 'deterioration', 'in', 'trade', 'relations', 'between', 'two', 'countries', 'which', 'are', 'major', 'trading', 'partners', 'of', 'ours', 'is', 'a', 'very', 'serious', 'matter', 'button', 'said', 'he', 'said', 'australia', 's', 'concerns', 'centred', 'on', 'coal', 'and', 'beef', 'australia', 's', 'two', 'largest', 'exports', 'to', 'japan', 'and', 'also', 'significant', 'u', 's', 'exports', 'to', 'that', 'country', 'meanwhile', 'u', 's', 'japanese', 'diplomatic', 'manoeuvres', 'to', 'solve', 'the', 'trade', 'stand', 'off', 'continue', 'japan', 's', 'ruling', 'liberal', 'democratic', 'party', 'yesterday', 'outlined', 'a', 'package', 'of', 'economic', 'measures', 'to', 'boost', 'the', 'japanese', 'economy', 'the', 'measures', 'proposed', 'include', 'a', 'large', 'supplementary', 'budget', 'and', 'record', 'public', 'works', 'spending', 'in', 'the', 'first', 'half', 'of', 'the', 'financial', 'year', 'they', 'also', 'call', 'for', 'stepped', 'up', 'spending', 'as', 'an', 'emergency', 'measure', 'to', 'stimulate', 'the', 'economy', 'despite', 'prime', 'minister', 'yasuhiro', 'nakasone', 's', 'avowed', 'fiscal', 'reform', 'program', 'deputy', 'u', 's', 'trade', 'representative', 'michael', 'smith', 'and', 'makoto', 'kuroda', 'japan', 's', 'deputy', 'minister', 'of', 'international', 'trade', 'and', 'industry', 'miti', 'are', 'due', 'to', 'meet', 'in', 'washington', 'this', 'week', 'in', 'an', 'effort', 'to', 'end', 'the', 'dispute']\n",
      "['china', 'daily', 'says', 'vermin', 'eat', 'pct', 'grain', 'stocks', 'a', 'survey', 'of', 'provinces', 'and', 'seven', 'cities', 'showed', 'vermin', 'consume', 'between', 'seven', 'and', 'pct', 'of', 'china', 's', 'grain', 'stocks', 'the', 'china', 'daily', 'said', 'it', 'also', 'said', 'that', 'each', 'year', 'mln', 'tonnes', 'or', 'pct', 'of', 'china', 's', 'fruit', 'output', 'are', 'left', 'to', 'rot', 'and', 'mln', 'tonnes', 'or', 'up', 'to', 'pct', 'of', 'its', 'vegetables', 'the', 'paper', 'blamed', 'the', 'waste', 'on', 'inadequate', 'storage', 'and', 'bad', 'preservation', 'methods', 'it', 'said', 'the', 'government', 'had', 'launched', 'a', 'national', 'programme', 'to', 'reduce', 'waste', 'calling', 'for', 'improved', 'technology', 'in', 'storage', 'and', 'preservation', 'and', 'greater', 'production', 'of', 'additives', 'the', 'paper', 'gave', 'no', 'further', 'details']\n"
     ]
    }
   ],
   "source": [
    "# Load and preprocess the data\n",
    "sentences = []\n",
    "for fileid in reuters.fileids():\n",
    "    words = reuters.words(fileid)\n",
    "    sentences.append([word.lower() for word in words if word.isalpha()])\n",
    "\n",
    "# Display a few example sentences\n",
    "print(\"Example sentences:\")\n",
    "for i in range(2):\n",
    "    print(sentences[i])"
   ]
  },
  {
   "cell_type": "code",
   "execution_count": 7,
   "id": "a312ba68",
   "metadata": {},
   "outputs": [
    {
     "name": "stdout",
     "output_type": "stream",
     "text": [
      "Vocabulary size: 10427\n"
     ]
    }
   ],
   "source": [
    "# Define and train the Word2Vec model\n",
    "model = Word2Vec(sentences, vector_size=40, \n",
    "                 window=5, \n",
    "                 min_count=5, \n",
    "                 sg=1, \n",
    "                 epochs=100)\n",
    "\n",
    "# Display vocabulary size\n",
    "print(\"Vocabulary size:\", len(model.wv))"
   ]
  },
  {
   "cell_type": "code",
   "execution_count": 67,
   "id": "b7e1a3ec",
   "metadata": {},
   "outputs": [
    {
     "name": "stdout",
     "output_type": "stream",
     "text": [
      "Words similar to 'market':\n",
      "nakasone: 0.791587769985199\n",
      "yasuhiro: 0.776953935623169\n",
      "tokyo: 0.7560929656028748\n",
      "armacost: 0.7252296209335327\n",
      "visit: 0.7124951481819153\n",
      "woong: 0.7104623317718506\n",
      "baldrige: 0.7088478207588196\n",
      "japan: 0.7022163271903992\n",
      "reagan: 0.7020198106765747\n",
      "yeutter: 0.6962512135505676\n"
     ]
    }
   ],
   "source": [
    "# Finding words similar to 'market'\n",
    "similar_words = model.wv.most_similar('washington', topn=10)\n",
    "print(\"Words similar to 'market':\")\n",
    "\n",
    "for word, score in similar_words:\n",
    "    print(f\"{word}: {score}\")"
   ]
  },
  {
   "cell_type": "code",
   "execution_count": 68,
   "id": "0c58201b",
   "metadata": {},
   "outputs": [],
   "source": [
    "# Choose a subset of words for visualization\n",
    "words = ['market', 'economy', 'trade', 'finance', 'investment', 'growth', 'bank', 'money', 'stocks', 'currency']\n",
    "word_vectors = np.array([model.wv[w] \n",
    "                         for w in words \n",
    "                         if w in model.wv])\n",
    "\n",
    "# Reduce dimensions with t-SNE\n",
    "tsne = TSNE(n_components=2, random_state=0, perplexity=2,)\n",
    "word_vectors_2d = tsne.fit_transform(word_vectors)\n",
    "\n"
   ]
  },
  {
   "cell_type": "code",
   "execution_count": 69,
   "id": "577a869f",
   "metadata": {},
   "outputs": [
    {
     "data": {
      "text/plain": [
       "Text(0, 0.5, 'Dimension 2')"
      ]
     },
     "execution_count": 69,
     "metadata": {},
     "output_type": "execute_result"
    },
    {
     "data": {
      "image/png": "[encoded data removed]",
      "text/plain": [
       "<Figure size 1000x800 with 1 Axes>"
      ]
     },
     "metadata": {},
     "output_type": "display_data"
    }
   ],
   "source": [
    "# Plot the words and their vectors\n",
    "plt.figure(figsize=(10, 8))\n",
    "plt.scatter(word_vectors_2d[:, 0], word_vectors_2d[:, 1])\n",
    "\n",
    "# Annotate each point with the word\n",
    "for i, word in enumerate(words):\n",
    "    if word in model.wv:\n",
    "        plt.annotate(word, xy=(word_vectors_2d[i, 0], word_vectors_2d[i, 1]))\n",
    "\n",
    "plt.title(\"Word Embedding Visualization with t-SNE\")\n",
    "plt.xlabel(\"Dimension 1\")\n",
    "plt.ylabel(\"Dimension 2\")\n",
    "\n"
   ]
  },
  {
   "cell_type": "markdown",
   "id": "f3c76ae6",
   "metadata": {},
   "source": [
    "## Exploring word2vec\n",
    "* First, use two of your favorite word and identify the top 40 similar words.\n",
    "* Then transform those words into vectors.\n",
    "* Using Principal component analysis, plot the 80 words using MatPlotLib, coloring the two word groups differently\n"
   ]
  },
  {
   "cell_type": "code",
   "execution_count": 41,
   "id": "e38e3223-1384-42b8-b6f9-6b8c4d54a37a",
   "metadata": {},
   "outputs": [
    {
     "name": "stdout",
     "output_type": "stream",
     "text": [
      "Words similar to 'korea':\n",
      "taiwan: 0.8321325778961182\n",
      "south: 0.7810896635055542\n",
      "korean: 0.7806620597839355\n",
      "japan: 0.7395292520523071\n",
      "exports: 0.6890023946762085\n",
      "sanctions: 0.6830124855041504\n",
      "appreciate: 0.6743542551994324\n",
      "africa: 0.6669265627861023\n",
      "surplus: 0.6617054343223572\n",
      "narrows: 0.6585234999656677\n",
      "rha: 0.6547166705131531\n",
      "trade: 0.6525639295578003\n",
      "china: 0.6515776515007019\n",
      "argentina: 0.6512687802314758\n",
      "woong: 0.6504566073417664\n",
      "barriers: 0.6487142443656921\n",
      "seoul: 0.648023247718811\n",
      "imports: 0.6470217108726501\n",
      "lopsided: 0.641710102558136\n",
      "oceania: 0.6379294991493225\n",
      "taiwanese: 0.6375527381896973\n",
      "widens: 0.633660078048706\n",
      "bae: 0.6246667504310608\n",
      "goods: 0.6176809072494507\n",
      "chipmakers: 0.6138293147087097\n",
      "revalue: 0.6064470410346985\n",
      "temporarily: 0.6056680679321289\n",
      "deficit: 0.6051872372627258\n",
      "yu: 0.6002204418182373\n",
      "stimulating: 0.5949637293815613\n",
      "india: 0.5933625102043152\n",
      "gradually: 0.5876201391220093\n",
      "cutback: 0.5857436656951904\n",
      "odds: 0.583066463470459\n",
      "diplomat: 0.5819737315177917\n",
      "pakistan: 0.5818815231323242\n",
      "states: 0.5803282856941223\n",
      "tadashi: 0.5797082185745239\n",
      "chien: 0.5790988802909851\n",
      "siew: 0.5778401494026184\n"
     ]
    }
   ],
   "source": [
    "# Finding words similar to 'market'\n",
    "similar_words2 = model.wv.most_similar('korea', topn=40)\n",
    "print(\"Words similar to 'korea':\")\n",
    "\n",
    "group1 = []\n",
    "group1_words = []\n",
    "\n",
    "\n",
    "# Print words and transform them into vectors\n",
    "for word, score in similar_words2:\n",
    "    print(f\"{word}: {score}\")\n",
    "    group1_words.append(word) #append word\n",
    "\n",
    "    group1.append(model.wv[word])  # Get the vector for each word\n",
    "\n"
   ]
  },
  {
   "cell_type": "code",
   "execution_count": 52,
   "id": "12c30900",
   "metadata": {},
   "outputs": [
    {
     "name": "stdout",
     "output_type": "stream",
     "text": [
      "Words similar to 'trade':\n",
      "computerized: 0.7556342482566833\n",
      "medical: 0.7364964485168457\n",
      "custom: 0.7330890893936157\n",
      "emhart: 0.7231773138046265\n",
      "electronics: 0.7193102240562439\n",
      "hexcel: 0.7110968232154846\n",
      "furniture: 0.6920996308326721\n",
      "boise: 0.6877502202987671\n",
      "unisys: 0.6836351156234741\n",
      "wallace: 0.6829637289047241\n",
      "laboratory: 0.6788092851638794\n",
      "technology: 0.6752956509590149\n",
      "adhesives: 0.668752133846283\n",
      "phoenix: 0.6683807373046875\n",
      "modulaire: 0.6647440195083618\n",
      "silicon: 0.6631407141685486\n",
      "sporting: 0.6629443168640137\n",
      "equipment: 0.6618323922157288\n",
      "distributor: 0.6601051092147827\n",
      "instrumentation: 0.6567874550819397\n",
      "slater: 0.6546487808227539\n",
      "dental: 0.652053952217102\n",
      "systems: 0.6513537764549255\n",
      "combustion: 0.6463468670845032\n",
      "software: 0.6433565020561218\n",
      "biopool: 0.6417722702026367\n",
      "graphics: 0.6417428851127625\n",
      "yale: 0.6406727433204651\n",
      "esselte: 0.6393976807594299\n",
      "mining: 0.6383733749389648\n",
      "rabbit: 0.6351851224899292\n",
      "ferro: 0.6345843076705933\n",
      "maker: 0.6333121061325073\n",
      "mlx: 0.6272305250167847\n",
      "visual: 0.626643180847168\n",
      "components: 0.6253111362457275\n",
      "acme: 0.6233826279640198\n",
      "media: 0.6231815814971924\n",
      "measurex: 0.6228004097938538\n",
      "hunt: 0.6210393309593201\n"
     ]
    },
    {
     "data": {
      "text/plain": [
       "[array([ 0.621888  ,  0.5064449 ,  0.88371015,  0.1171875 ,  0.21162258,\n",
       "        -0.33117938, -0.0168273 , -0.4153012 , -1.8771697 ,  0.6860876 ,\n",
       "         0.4482501 ,  0.91671276, -0.08432874,  0.17386432,  1.0846936 ,\n",
       "         0.996377  , -0.33275637,  0.6175767 ,  1.4945401 ,  0.1919225 ,\n",
       "         0.04153091,  0.7254024 , -0.00253133, -0.2861405 ,  0.5406812 ,\n",
       "         0.7205992 , -0.70224726, -0.46135774,  0.494838  , -0.766276  ,\n",
       "         0.42666724,  0.2537527 , -0.39876702, -1.074466  ,  0.36235023,\n",
       "        -0.2599814 ,  0.24669723,  0.04358767, -1.1005574 , -0.09454396],\n",
       "       dtype=float32),\n",
       " array([-0.3756919 ,  0.7031981 ,  0.47323412,  0.12283183, -0.09329893,\n",
       "        -0.32320455,  0.6393653 , -0.3365202 , -1.3394791 ,  0.59735346,\n",
       "        -0.19948927,  0.38337073, -0.01593571,  0.2574009 ,  0.65741056,\n",
       "         0.2865227 ,  0.2903672 , -0.18014519,  0.9766194 , -0.8077704 ,\n",
       "        -0.06565791,  0.01039896, -0.08979816,  0.23726882, -0.17777307,\n",
       "         0.42847303, -0.3732552 , -0.29456675,  0.30817905, -0.30368173,\n",
       "        -0.05736036,  0.24310572, -0.54459816, -0.30262077,  0.60566896,\n",
       "        -0.14042188, -0.0160556 , -0.6642895 ,  0.12451613, -0.11930244],\n",
       "       dtype=float32),\n",
       " array([ 0.2575647 ,  0.8029835 , -0.08417262,  0.15903243, -0.02148787,\n",
       "        -0.6191914 ,  0.05881018,  0.63861513, -0.7394026 ,  0.3881438 ,\n",
       "         0.36020786,  0.8269574 , -0.11717093, -0.521485  ,  0.81885535,\n",
       "         0.6123088 , -0.45260528, -1.0625548 ,  1.3401076 ,  0.2666245 ,\n",
       "         0.37993124,  0.24747868,  0.5747949 , -0.5533605 ,  0.37117556,\n",
       "         0.95664436, -0.8704907 , -0.0820199 ,  0.56790775, -0.09469267,\n",
       "         0.35997674, -0.08820967, -0.24438944, -0.43334478,  0.53079844,\n",
       "         0.4009193 , -0.03133022, -0.34988257, -1.0819784 , -0.7523799 ],\n",
       "       dtype=float32),\n",
       " array([ 0.38584068,  0.34513378,  0.7361756 , -0.297075  , -0.5533898 ,\n",
       "        -0.91325897,  1.0094612 , -1.1130202 , -1.1346902 ,  0.8151541 ,\n",
       "         0.59961677,  0.07078728, -0.37143528, -0.22837241,  0.20928365,\n",
       "         1.364719  , -0.56924605, -0.54961526,  1.8359289 ,  0.4936633 ,\n",
       "        -1.079508  , -0.9692744 ,  0.53331256, -0.08793118,  0.5474529 ,\n",
       "         0.71343356, -0.55112517, -0.5197578 ,  0.86281073, -0.22085941,\n",
       "         0.04019585,  0.37316003, -0.05533632, -0.37734893,  1.0196028 ,\n",
       "         0.06338403,  0.5478977 , -0.44915742, -0.7044541 , -0.40835893],\n",
       "       dtype=float32),\n",
       " array([ 0.39626086,  0.28362316,  0.61013764,  0.05549672, -0.2786653 ,\n",
       "        -0.09676528,  0.5454053 , -0.18689981, -1.2060138 ,  0.38323668,\n",
       "        -0.1112274 ,  0.38283285,  0.09075573, -0.07285696,  0.3291595 ,\n",
       "         0.36785832,  0.1659453 , -1.1624132 ,  0.6697452 , -0.36079973,\n",
       "        -0.28772005,  0.3098544 , -0.14351524, -0.32689738,  0.06659088,\n",
       "         0.3436527 , -0.4585081 , -0.6312458 ,  0.34413752,  0.29499835,\n",
       "        -0.00955364,  0.20092575, -0.48104367, -0.4114441 ,  0.66373736,\n",
       "         0.4088289 , -0.23405501, -0.6050531 , -0.57264185, -0.5881074 ],\n",
       "       dtype=float32),\n",
       " array([-0.54291666,  0.7018248 ,  0.19651541, -0.02129156,  0.28654435,\n",
       "        -0.9591528 ,  0.61768115, -0.32971895, -1.3208222 ,  0.66202766,\n",
       "        -0.24571714, -0.37310696, -0.6730151 , -0.15349217,  0.6935583 ,\n",
       "         0.8330431 ,  0.45015877, -0.30113655,  1.6445776 , -0.75760293,\n",
       "        -1.366883  , -0.5395432 ,  0.6321412 , -0.03775274, -0.5864549 ,\n",
       "         0.625677  , -0.48162776, -0.55094343,  0.14231624, -0.2960772 ,\n",
       "         0.93528074, -0.02325833, -1.3846188 , -0.6336055 ,  0.69786453,\n",
       "        -0.6412827 ,  0.9022479 , -1.4222608 , -0.8460322 , -0.3019046 ],\n",
       "       dtype=float32),\n",
       " array([ 0.5958728 ,  0.20632249,  0.07620776, -0.36374184, -0.6589658 ,\n",
       "        -0.89709485,  0.35006446, -0.00467264, -0.55929476,  0.49867082,\n",
       "        -0.03867451,  0.55727106, -0.1174214 , -0.621333  ,  0.6619503 ,\n",
       "         0.38549587,  0.47604248, -0.88709784,  1.4143193 , -0.32741615,\n",
       "        -0.06027501, -0.171894  ,  0.4459126 ,  0.18111593, -0.17717108,\n",
       "        -0.03205114, -0.57537305, -0.74210453,  0.7436269 , -0.8334801 ,\n",
       "        -0.06868257,  0.30020195, -0.3072899 , -0.63169   ,  0.96194696,\n",
       "         0.22869822, -0.4047745 , -0.23365542, -1.1750963 ,  0.385125  ],\n",
       "       dtype=float32),\n",
       " array([ 0.1027007 ,  0.8431512 ,  1.4483234 ,  0.06405862,  0.46785823,\n",
       "         0.08265454,  1.0802864 , -0.677317  , -0.28475145,  0.9083232 ,\n",
       "        -0.18137416,  0.50622976, -0.290891  , -1.0484767 ,  0.53920174,\n",
       "         0.9217768 , -0.09468173,  0.08556718,  1.2078066 , -0.44729322,\n",
       "        -1.217282  ,  0.2901685 ,  0.07314067,  0.4650001 , -0.0346248 ,\n",
       "         0.21179931, -1.2274895 ,  0.6973351 ,  0.3683845 , -0.36609098,\n",
       "         0.6044919 ,  0.54301465, -1.1871321 , -0.84082705,  1.6813991 ,\n",
       "        -0.9759099 ,  0.67745596, -0.82433504, -1.5739852 , -0.8528979 ],\n",
       "       dtype=float32),\n",
       " array([ 0.4988338 ,  0.11248555,  0.14164436,  0.68406373,  0.7161029 ,\n",
       "         0.44611844,  1.0300189 , -0.9828825 , -1.1253124 ,  0.25757685,\n",
       "         0.04266147,  0.05691912,  0.10185342, -0.13358687,  0.27599367,\n",
       "         0.6048404 , -0.28843206, -0.48359805,  1.7183063 , -0.06730754,\n",
       "        -0.5081955 , -0.37366733, -0.31972182, -0.2788921 , -0.09993647,\n",
       "         0.9905278 , -0.2672089 ,  0.19999921,  0.6718633 , -0.9598686 ,\n",
       "         0.40997666,  0.32142964, -0.04087504, -0.5519057 ,  0.5826301 ,\n",
       "         0.09558193, -0.506272  , -1.3729156 , -1.597411  , -0.37161016],\n",
       "       dtype=float32),\n",
       " array([ 0.5662168 ,  0.9540081 ,  0.68078464,  0.14442357, -0.68116087,\n",
       "        -0.35920137,  0.6131741 , -0.2246041 , -0.65529656,  1.1169219 ,\n",
       "         0.60835236,  0.6856958 ,  0.13817526,  0.26651573,  1.1195575 ,\n",
       "         0.52092564,  0.12113381, -1.2641381 ,  1.2689966 , -1.4449946 ,\n",
       "        -0.21816947, -0.4641851 , -0.5952115 ,  0.5692783 , -0.15526927,\n",
       "         0.51619095, -1.0087748 , -0.58865255,  1.2492579 , -0.13275278,\n",
       "         0.34929204,  0.6471351 , -1.0159521 , -1.2047526 ,  0.45862114,\n",
       "         0.11499637, -0.8588434 , -0.48915452, -1.234058  , -0.18266086],\n",
       "       dtype=float32),\n",
       " array([-0.09070503,  1.0953141 ,  0.8552716 ,  0.38230914, -0.454536  ,\n",
       "        -0.6913789 ,  0.87204194, -0.07805829, -1.2504613 ,  0.84827936,\n",
       "         0.63475853,  0.74798155,  0.27142394, -0.5485757 ,  0.24200283,\n",
       "         0.1723855 , -0.17078824, -0.16479084,  0.8204572 ,  0.6265041 ,\n",
       "         0.19950166,  0.2167165 ,  1.2007496 ,  0.057587  , -0.14984667,\n",
       "        -0.7537568 , -0.5005056 ,  0.18191688,  0.4681494 ,  0.18683577,\n",
       "         0.41887477,  0.24609824, -0.9350848 , -0.4274862 ,  1.1908658 ,\n",
       "        -0.04447133, -0.33151907, -0.35891065, -0.29143777,  0.12899491],\n",
       "       dtype=float32),\n",
       " array([-0.06628001,  0.4319931 ,  0.47741774,  0.48422316, -0.2178741 ,\n",
       "        -0.14118077,  0.41336653, -0.1996685 , -0.6252995 ,  0.8609672 ,\n",
       "        -0.5551592 ,  0.3777548 ,  0.14021519,  0.02520724,  0.8378748 ,\n",
       "         0.3328916 , -0.45770904, -0.5343676 ,  0.50768447,  0.06545249,\n",
       "        -0.3781131 ,  0.4057614 ,  0.22071019,  0.23480687,  0.21031858,\n",
       "         0.2321846 , -0.46102047, -0.27566093,  0.00906152, -0.11976808,\n",
       "        -0.12204289, -0.51561284, -0.5455275 , -0.67305565,  0.14609745,\n",
       "         0.32810327, -0.6504169 , -0.8814076 , -0.7395491 , -0.38732985],\n",
       "       dtype=float32),\n",
       " array([ 0.30643073,  0.389562  ,  0.9640583 ,  0.05231808,  0.24588823,\n",
       "        -0.7304223 ,  0.8866532 , -0.65885556, -1.0725397 ,  1.4815868 ,\n",
       "        -0.54844826,  1.034348  , -0.9535032 , -0.34615883,  0.40651542,\n",
       "         0.17210534,  0.3241138 , -0.38071945,  1.2169862 , -0.0813899 ,\n",
       "        -0.21036337, -0.26608196,  0.07345073, -0.85887307,  0.16403957,\n",
       "         0.2743799 , -0.9702049 , -0.28807512,  0.2914714 , -0.37990096,\n",
       "         0.67394525, -0.38261256, -1.3236979 ,  0.22566451,  0.25881678,\n",
       "         0.68413866,  0.29117668, -1.2435896 , -0.957163  ,  0.276322  ],\n",
       "       dtype=float32),\n",
       " array([ 0.2586762 ,  0.35253134, -0.1789111 , -0.07710404,  0.38465148,\n",
       "         0.12589307, -0.21195874, -0.6083278 , -1.5495278 , -0.04742792,\n",
       "         0.01623391,  0.4984913 ,  0.21932591, -0.6548394 ,  0.17120063,\n",
       "         0.47249845, -0.30412352, -0.56114584,  0.40964678, -0.25295493,\n",
       "        -0.11309058, -0.14238967, -0.16298737, -0.5193765 , -0.567811  ,\n",
       "         0.50760424, -0.7902308 ,  0.660721  , -0.43926072, -0.00366169,\n",
       "         0.56405425,  0.6116853 , -1.1162359 , -1.2221081 ,  0.4873853 ,\n",
       "        -0.05161756, -0.09859774, -1.1560507 , -1.0084915 , -0.31166938],\n",
       "       dtype=float32),\n",
       " array([-5.9827292e-01,  1.5607390e+00,  3.9566720e-01,  4.4004086e-01,\n",
       "        -1.4451773e-01,  1.9495372e-01,  6.0403168e-01, -4.8906741e-01,\n",
       "        -1.3354504e+00,  1.3679014e+00,  1.8842574e-02, -2.4326594e-01,\n",
       "         3.6201067e-02,  1.8978357e-02,  1.9787835e-01, -3.6375489e-02,\n",
       "         3.6024123e-01,  1.1688543e-01,  6.7593604e-01, -7.0328987e-01,\n",
       "        -4.6527094e-01, -1.1567090e-01, -2.1363492e-01,  9.2583412e-01,\n",
       "        -2.3943493e-01,  8.7247336e-01, -4.6080348e-01, -4.6918374e-02,\n",
       "         5.0007250e-02, -4.0728834e-01,  3.4006661e-01,  1.0664206e+00,\n",
       "        -1.0324303e+00, -3.8947817e-02,  1.5292637e+00,  5.9823151e-04,\n",
       "         7.6616424e-01, -2.4384315e-01, -1.4991487e+00, -8.0707365e-01],\n",
       "       dtype=float32),\n",
       " array([-0.17767617,  0.57436025,  0.963854  ,  0.17440124, -0.16244322,\n",
       "         0.19331819,  0.68006015, -0.74245   , -0.6022324 ,  1.34519   ,\n",
       "         0.2074941 , -0.3287024 , -1.1480008 ,  0.7326255 ,  0.87902135,\n",
       "         0.39445767,  0.6203056 , -0.91560155,  1.2564918 ,  0.3681177 ,\n",
       "         0.16565822, -0.6870857 , -0.49566463, -0.13576566, -0.27537605,\n",
       "        -0.01353566, -1.2410667 ,  0.2559864 ,  0.23078202, -0.17284395,\n",
       "         0.441681  ,  0.41708425, -0.70776886, -0.9214397 ,  1.0846168 ,\n",
       "        -0.03324376, -0.49428618, -0.16619141, -0.90291464, -0.87479925],\n",
       "       dtype=float32),\n",
       " array([-3.00212741e-01,  9.01908159e-01,  6.30422473e-01, -2.97412902e-01,\n",
       "         1.21876396e-01, -1.26530063e+00,  2.68469065e-01,  3.75261664e-01,\n",
       "        -1.01461709e+00,  7.10616291e-01, -1.56605557e-01, -5.35199821e-01,\n",
       "        -8.71149302e-01, -2.08809614e-01,  1.30392838e+00,  8.14199030e-01,\n",
       "         3.97350907e-01, -5.53631127e-01,  2.02483010e+00, -9.59446967e-01,\n",
       "        -1.77881792e-01, -9.28458795e-02,  1.74428299e-01, -7.17885315e-01,\n",
       "         2.52471477e-01,  2.42692038e-01, -6.40164673e-01,  2.52761450e-02,\n",
       "         1.52985752e+00,  8.28880966e-02, -8.51880968e-01,  4.48642492e-01,\n",
       "         1.50882569e-03, -9.78167951e-01,  2.00586891e+00,  4.06582326e-01,\n",
       "        -8.08959752e-02,  1.04815103e-01, -6.70351446e-01, -9.13610041e-01],\n",
       "       dtype=float32),\n",
       " array([ 0.30268773,  0.14317048,  0.6343797 ,  0.5806559 , -0.15873033,\n",
       "        -0.18018498,  0.61959904, -0.25351003, -0.36185706,  0.30523717,\n",
       "         0.10776421,  0.6710562 ,  0.01996357, -0.14179552,  0.5880074 ,\n",
       "         0.01462224, -0.31644756, -0.5013523 ,  0.92804813, -0.0570319 ,\n",
       "        -0.12687708,  0.23941484,  0.3800054 ,  0.16311048,  0.3568122 ,\n",
       "        -0.10236327, -0.3568385 , -0.46656036,  0.1468453 ,  0.3102428 ,\n",
       "         0.6483724 , -0.11890265, -0.6842141 , -0.5717119 ,  0.13691095,\n",
       "         0.32829425, -0.11286222, -0.5696341 , -0.8754806 , -0.36185718],\n",
       "       dtype=float32),\n",
       " array([-0.13442144,  0.549024  ,  0.68390036,  0.014989  ,  0.26862958,\n",
       "        -0.93403924,  0.63781893, -0.14731298, -0.13806552,  0.0093611 ,\n",
       "        -0.0331909 ,  0.4511189 ,  0.23238277, -0.28980264,  0.42858338,\n",
       "         0.1454494 ,  0.2636442 , -0.279647  ,  0.9835853 ,  0.1548358 ,\n",
       "        -0.44552886, -0.3293347 ,  0.42677453, -0.62576073, -0.26556852,\n",
       "         0.34041595, -1.445046  , -0.65160984,  0.32358807, -0.2780397 ,\n",
       "         0.744048  , -0.0114107 , -0.47837657, -0.29838452,  1.1126504 ,\n",
       "         0.33031633, -0.07518031, -0.3544712 , -0.7495754 , -0.03001163],\n",
       "       dtype=float32),\n",
       " array([ 6.2418509e-01,  1.2079953e+00,  1.2843626e+00,  4.3486122e-02,\n",
       "        -1.9424926e-02, -3.2847086e-01,  7.9520321e-01, -2.2633376e-03,\n",
       "        -1.6653709e+00,  7.2329700e-01,  2.2218728e-01,  4.4637427e-01,\n",
       "         8.3221442e-01, -2.5191808e-01,  3.2883304e-01,  1.7310290e-02,\n",
       "        -3.5905764e-01,  2.5060004e-01,  1.0513136e+00,  6.2797852e-02,\n",
       "        -7.0281816e-01,  8.5771030e-01,  1.3812158e-01,  1.4444770e-03,\n",
       "         7.7206004e-01, -4.6029073e-01, -1.1368803e+00, -2.0770331e-01,\n",
       "         9.5820200e-01, -3.5360482e-01,  1.1278737e+00,  8.8043195e-01,\n",
       "        -1.0481220e+00, -2.0437454e-01,  5.7062584e-01,  9.8426038e-01,\n",
       "         1.2174825e-01, -4.4988146e-01, -1.0546696e+00, -9.1485488e-01],\n",
       "       dtype=float32),\n",
       " array([-0.10970228, -0.2998162 ,  0.82364553, -0.32338095,  0.14979157,\n",
       "        -0.93349355,  0.87234485, -0.02237094, -1.0289214 ,  1.2622792 ,\n",
       "        -0.59344554,  0.47979945,  0.43439165, -0.18441263,  0.58492225,\n",
       "         0.36673936, -0.2071112 , -1.0447837 ,  1.3766007 ,  0.16279209,\n",
       "        -0.5839915 ,  0.31799448, -0.16950625,  0.8217419 , -0.46942762,\n",
       "         1.2464256 , -1.2399354 ,  0.18622401,  0.46721786, -0.27299324,\n",
       "         0.7556358 ,  0.77703583, -0.665789  ,  0.0279607 ,  0.38617107,\n",
       "         0.4556248 ,  0.6448715 , -1.0423875 , -1.00998   ,  0.0408143 ],\n",
       "       dtype=float32),\n",
       " array([ 0.5161549 ,  0.9212735 ,  0.84552395, -0.43757266,  0.6401338 ,\n",
       "        -0.85096914,  0.82849604,  0.8860503 , -0.686745  ,  0.23981167,\n",
       "         0.23188283,  0.4960859 , -0.40109268, -0.8791393 ,  1.7122697 ,\n",
       "        -0.30208933, -0.0656113 , -0.47740805,  1.6176587 , -0.75002444,\n",
       "        -0.42547083, -0.14708148, -0.5292899 , -0.2983911 , -0.62190413,\n",
       "         0.26398355, -0.6885072 , -0.41664296,  0.368116  , -1.1278512 ,\n",
       "         0.31500182, -0.51264524, -0.39890626, -1.4825872 ,  1.8979132 ,\n",
       "        -0.17910862,  0.6841744 , -0.8494955 , -1.0641725 , -0.22252692],\n",
       "       dtype=float32),\n",
       " array([ 0.20412683,  0.67374265, -0.28067797,  0.3057456 , -0.09502093,\n",
       "        -0.61083287,  0.59759605, -0.5040885 , -0.9604143 ,  0.5196275 ,\n",
       "        -0.176108  ,  0.5851668 , -0.20613293,  0.02080178,  0.6928912 ,\n",
       "         0.6117881 , -0.22955897, -0.15772922,  0.7356939 , -0.03619698,\n",
       "        -0.1753719 ,  0.24412741, -0.57682985, -0.10123977, -0.1011396 ,\n",
       "         0.43317363, -0.74954253, -0.6475159 ,  0.22471835, -0.00507123,\n",
       "         0.13117474,  0.28909105, -0.58701056, -0.5320388 ,  0.23268847,\n",
       "         0.10277093, -0.1947599 , -0.68256724, -0.52959406, -0.43437278],\n",
       "       dtype=float32),\n",
       " array([ 0.11449949,  0.16760996,  0.63595384,  1.0601938 ,  0.358411  ,\n",
       "        -0.7984508 , -0.10320808, -0.45953333, -1.2331767 ,  1.1079743 ,\n",
       "        -0.9774368 , -0.14462295,  0.9171123 , -0.66748506, -0.0056581 ,\n",
       "         0.7094828 , -0.05181866, -0.80208075,  1.4669201 , -0.05541639,\n",
       "        -0.20089369,  0.16717713,  0.42977226,  0.6500849 , -0.06819427,\n",
       "         0.2992332 , -0.6272499 ,  0.38310128,  0.01187047, -0.05242155,\n",
       "         0.72499293,  1.4827056 , -1.1385254 , -0.9289872 ,  0.55098945,\n",
       "        -0.12753195,  0.6819804 , -1.0054346 , -0.83577573,  0.49159887],\n",
       "       dtype=float32),\n",
       " array([ 0.23509282,  0.5720092 , -0.11010511,  0.13090725,  0.3584801 ,\n",
       "        -0.4023417 ,  0.4434038 , -0.7684298 , -1.116705  ,  0.34145775,\n",
       "         0.05457581,  0.8765518 , -0.18623571,  0.16532287,  0.27085093,\n",
       "         0.49912736, -0.22784372, -0.03803656,  0.9341928 , -0.23714763,\n",
       "        -0.33466887,  0.40510535, -0.2244191 , -0.29163834,  0.69016814,\n",
       "         0.46916437, -1.3945924 , -0.6799951 , -0.10616452,  0.09105152,\n",
       "        -0.12743448,  0.5723615 , -0.5652317 , -1.0214467 ,  0.40687343,\n",
       "         0.4750429 ,  0.1566283 , -0.63958424, -0.68522954, -0.27588493],\n",
       "       dtype=float32),\n",
       " array([-0.5588094 , -0.5260284 ,  1.2627778 ,  0.20589717, -0.32089737,\n",
       "        -2.1320655 , -0.47938067,  0.2942947 , -1.386564  ,  1.2758876 ,\n",
       "         0.4130921 , -0.2803498 ,  0.48323286,  0.13193417,  0.80313617,\n",
       "         0.35798457,  0.19283918,  0.53230375,  0.92325747, -0.798673  ,\n",
       "        -0.72233903,  0.49308497, -0.3011114 ,  0.3560211 , -1.0287424 ,\n",
       "         0.77119815, -1.0002434 , -0.32673687, -0.3130502 , -0.76160574,\n",
       "         0.90339684,  0.09985442, -1.0165373 , -0.11813132, -0.33061805,\n",
       "         0.5067874 , -0.24599206, -2.1957042 , -1.4661362 , -0.61094594],\n",
       "       dtype=float32),\n",
       " array([-3.7411052e-01,  1.1412307e+00, -5.9644020e-01, -1.6717696e-01,\n",
       "         5.2086944e-03, -1.7122755e+00, -8.7153906e-01,  2.1306197e-01,\n",
       "        -1.0032401e+00,  8.3396101e-01, -3.2606009e-01, -1.5201984e-03,\n",
       "         2.3114960e-01,  4.5041132e-01,  2.6427588e-01,  3.3854622e-01,\n",
       "        -2.1950045e-01,  1.0571144e-02,  8.0413204e-01, -5.1017106e-01,\n",
       "        -3.5694203e-01, -2.5203046e-01, -7.2698496e-02,  7.1155947e-01,\n",
       "         9.9115856e-02,  9.6513295e-01, -1.2887267e+00, -5.5686617e-01,\n",
       "        -9.3583517e-02, -3.6404163e-01, -1.1685542e-01,  4.0655044e-01,\n",
       "        -7.0879805e-01, -1.1148590e+00,  8.1556851e-01,  4.2687514e-01,\n",
       "         3.8441426e-01, -9.6887749e-01, -1.3708827e+00, -3.4070337e-01],\n",
       "       dtype=float32),\n",
       " array([ 0.3319787 ,  0.08358084,  0.39949268, -0.17244981,  0.6740069 ,\n",
       "        -0.4611919 ,  0.26230422, -0.04652788, -1.1966767 ,  0.8223244 ,\n",
       "        -0.00256255,  0.7766187 , -0.5652295 ,  0.07171402,  0.12485129,\n",
       "         0.04781401, -0.11900674, -1.1698784 ,  0.5192754 , -0.20895116,\n",
       "        -0.11981765,  0.20560016, -0.33002424, -0.65435815, -0.18099393,\n",
       "         0.90432423, -0.6398209 , -0.5613591 ,  1.2104672 , -1.2653295 ,\n",
       "         1.0045115 ,  0.5481882 , -0.431158  , -0.11019067,  1.3401229 ,\n",
       "         0.05822809,  0.7006427 , -0.39395097, -1.780437  ,  0.25528607],\n",
       "       dtype=float32),\n",
       " array([ 0.6280065 , -0.48635635,  1.2376951 ,  0.09432085,  0.21182144,\n",
       "        -1.0312103 ,  1.0904866 , -0.37020308, -1.086211  ,  0.86797935,\n",
       "         0.341238  ,  0.6660417 ,  0.29201934, -0.8242356 ,  0.41205508,\n",
       "         1.0560688 ,  0.72162676, -0.5455064 ,  1.2064228 , -0.64633894,\n",
       "        -0.6770504 , -0.9014443 , -0.10303226, -0.31222078, -0.366743  ,\n",
       "         1.1160804 , -1.3755153 , -0.08509755,  0.25407338, -0.20356846,\n",
       "         0.10832533,  0.5448444 , -0.7391669 ,  0.1626641 , -0.2009057 ,\n",
       "         0.5447692 ,  0.43348297, -1.1360015 , -0.8932121 , -0.11300961],\n",
       "       dtype=float32),\n",
       " array([-0.35710087,  0.20383155,  0.69823223,  0.2103474 , -0.03821177,\n",
       "        -0.31336164, -0.41726   , -0.7759819 , -0.15343457,  0.21691725,\n",
       "         0.14595014,  0.24379784,  0.14846103,  0.52922153,  0.23995893,\n",
       "         0.52338874,  0.08299503, -0.5748957 ,  1.1827958 , -0.8599227 ,\n",
       "        -0.1824415 , -0.14172141,  1.0183781 ,  0.24240358,  0.3626965 ,\n",
       "        -0.01194009,  0.1097794 , -0.19083022, -0.62789154, -0.3741992 ,\n",
       "         0.3567223 , -0.18657337, -0.44841832, -0.22610943,  0.11059427,\n",
       "        -0.56018084, -0.41928974, -0.50598425, -1.0493948 , -0.37449652],\n",
       "       dtype=float32),\n",
       " array([-0.56020737,  0.68129265,  0.34646344,  0.03581185,  0.5311148 ,\n",
       "        -1.0504519 ,  0.6574157 ,  0.19321235, -1.4395142 ,  0.22827734,\n",
       "         0.21084958, -0.27544475, -1.1633669 ,  0.23761082,  0.21973762,\n",
       "         1.1406119 , -0.48062843,  0.6858242 ,  0.8082652 , -0.4497061 ,\n",
       "        -0.62768793, -0.21836932, -0.09091315,  0.45435408,  0.3133001 ,\n",
       "         0.58115786, -0.80849534, -0.2829806 ,  0.6098998 , -0.14019267,\n",
       "         0.96744823,  1.0487413 , -0.49323028, -0.8154853 ,  0.5136391 ,\n",
       "         0.4246024 ,  0.44768497, -1.6362802 , -2.0372376 , -0.14321561],\n",
       "       dtype=float32),\n",
       " array([-0.84151596,  0.24670099,  0.5588601 , -0.8212787 ,  0.42254984,\n",
       "         0.19812909,  1.192841  , -0.35341337, -1.443984  ,  1.1709105 ,\n",
       "        -0.26015344,  0.5470047 , -0.17743431, -0.84416384, -0.0112678 ,\n",
       "         1.230943  ,  0.18055773, -1.0375813 ,  0.86006457, -0.3476343 ,\n",
       "        -0.17025246,  0.6040498 ,  0.9719586 ,  0.3961758 ,  0.52571124,\n",
       "        -0.12142663, -1.3990043 ,  0.60116297, -0.8810901 , -0.57446903,\n",
       "        -0.00778822,  0.0690319 , -1.0109991 ,  0.02509998,  0.5932013 ,\n",
       "         0.7747669 ,  0.06509835, -0.7603148 , -0.97550106, -0.91511506],\n",
       "       dtype=float32),\n",
       " array([ 0.1988182 , -0.771112  ,  0.9909927 ,  0.46669558, -0.41204965,\n",
       "        -0.143335  ,  0.7336064 , -0.29636866, -0.94189054,  0.4862743 ,\n",
       "         0.18993177,  0.393778  ,  0.52529734, -0.07928433,  0.63240296,\n",
       "         0.03234805,  0.07393901,  0.1308138 ,  0.6360982 , -0.31719354,\n",
       "        -0.518307  , -0.26177892, -0.4457847 , -0.23075774, -0.29715326,\n",
       "         0.40103996, -0.8615429 , -0.44347277,  0.45441437, -0.18158954,\n",
       "         0.6026961 ,  0.06357765, -0.9403965 , -0.01426625,  0.09586237,\n",
       "         0.19743182, -0.5151644 , -0.9166827 , -0.9818639 , -0.26252443],\n",
       "       dtype=float32),\n",
       " array([-0.64052606,  1.4232433 ,  0.8349144 , -1.1188115 , -0.49261233,\n",
       "        -0.83231354,  0.97372377, -0.19101097, -1.2605382 ,  0.4837431 ,\n",
       "         0.06166866,  0.58993393, -0.27635613,  0.09291647,  0.39003593,\n",
       "         0.6350524 ,  0.1716295 , -0.42590356,  1.0575664 , -0.6506936 ,\n",
       "        -1.2877849 , -0.2685438 ,  0.07384307,  0.12979333,  0.18510966,\n",
       "         0.73842156, -0.460479  , -0.45096147,  0.96784055, -0.8809881 ,\n",
       "         1.3953426 ,  0.20012607, -0.45571545,  0.44017902,  0.5170197 ,\n",
       "        -0.15342309,  0.6252885 , -0.6433358 , -0.7639842 , -0.06877843],\n",
       "       dtype=float32),\n",
       " array([ 0.5180816 ,  1.6211463 ,  0.25230488, -0.00984339, -0.34077483,\n",
       "        -1.1230873 , -1.3175002 , -0.7463388 , -1.3496987 ,  0.95161414,\n",
       "        -0.422294  ,  0.23580024,  0.50923586,  0.45628664,  1.4134189 ,\n",
       "         0.37556148, -0.35141024,  0.2140878 , -0.26433998, -0.08511308,\n",
       "        -0.21184598, -1.2267855 ,  0.04393922,  0.33053225, -0.04115525,\n",
       "         0.26288757, -0.22348778,  0.0646334 , -0.34042487, -1.0220584 ,\n",
       "         0.13765846,  0.6264351 , -0.79562044, -1.2504774 ,  1.0293959 ,\n",
       "        -0.1894177 , -0.47569314, -0.81248283, -0.8081384 , -0.8399077 ],\n",
       "       dtype=float32),\n",
       " array([ 0.49752295,  0.08945176,  0.7488526 ,  0.3916985 ,  0.05902462,\n",
       "        -0.02198083,  1.1591033 , -0.26959535, -0.52445716,  0.8540604 ,\n",
       "         0.40182406,  0.43572477,  0.6101501 , -0.5712258 ,  0.6013804 ,\n",
       "         0.34721267,  0.00147815, -0.43670595,  1.2282022 ,  0.3075546 ,\n",
       "         0.16715658,  0.3136568 , -0.5058882 ,  0.03798727,  0.25153726,\n",
       "         0.32053614, -0.61121815, -0.3640306 ,  0.38203043,  0.18287332,\n",
       "         0.32215175,  0.04634092, -0.86678314, -0.09808704,  0.55263686,\n",
       "         0.3899186 ,  0.71792793, -0.45891154, -0.7210937 , -0.39728144],\n",
       "       dtype=float32),\n",
       " array([ 0.35302988,  0.43716553,  0.15543146,  0.73303896, -0.5882397 ,\n",
       "        -0.5589224 ,  0.12494053,  0.25085154, -1.8063608 ,  0.37173137,\n",
       "         0.26121074,  0.04178645,  0.64356625,  0.26303706,  1.1749997 ,\n",
       "         0.13244925, -0.12258374, -1.0031381 ,  1.2704138 , -0.9863119 ,\n",
       "        -0.7912348 , -0.48416862, -0.05764166,  0.8599352 ,  0.5393833 ,\n",
       "         1.055143  , -1.2136849 , -0.6712143 , -0.1496825 ,  0.18780287,\n",
       "         0.7025797 ,  0.96572745, -0.40998757,  0.0381306 , -0.11736508,\n",
       "        -0.27351508,  0.02338868, -0.397963  , -0.7091231 , -0.8036898 ],\n",
       "       dtype=float32),\n",
       " array([ 0.8501971 ,  0.05488708,  0.64728177, -0.06748957, -0.5025889 ,\n",
       "         0.15027626,  0.17584851, -0.3304681 , -0.7528737 ,  0.47255647,\n",
       "        -0.4493046 , -0.18515594,  0.37669286, -0.26794645,  0.67372066,\n",
       "        -0.3103883 ,  0.3790044 , -0.37559345,  0.409131  , -1.1618717 ,\n",
       "         0.1096144 , -0.13602552,  0.17321225,  0.6138446 , -0.08865404,\n",
       "         0.42921075, -0.0720261 , -0.05292958,  0.27744648, -0.24608353,\n",
       "         0.00520261,  0.382315  ,  0.22612189, -0.6877424 ,  0.67461616,\n",
       "        -0.28589138, -0.4369165 , -0.5944216 , -0.919491  , -0.7156232 ],\n",
       "       dtype=float32),\n",
       " array([ 0.38702568,  0.5661314 ,  1.3824886 ,  0.00556167, -0.1034601 ,\n",
       "        -0.8173075 , -0.0981623 , -0.77193564, -0.2785742 ,  1.5109364 ,\n",
       "        -0.32018632, -0.20612988,  0.10431933,  1.4599273 , -0.50470155,\n",
       "         0.5307148 ,  0.42551407, -1.0938941 ,  1.4782139 , -0.8378497 ,\n",
       "        -1.1496588 , -0.1488649 ,  0.3929575 , -0.12350868, -0.37295893,\n",
       "         0.21548922, -0.53970647, -0.497255  ,  0.99269694, -0.81890416,\n",
       "         1.244623  , -0.08032448, -0.9358135 , -0.8428698 ,  0.79976827,\n",
       "        -0.2942624 , -0.07958624, -0.66908836, -0.94939744,  0.27531964],\n",
       "       dtype=float32),\n",
       " array([-0.10213328,  0.6571383 ,  0.25479066, -0.09993593, -0.09337193,\n",
       "        -0.5659629 , -0.11916433, -1.3017919 , -1.0029315 ,  0.62276894,\n",
       "        -0.13999729,  0.55689687, -0.12892723,  0.05653007,  0.73381495,\n",
       "        -0.27328983, -0.019721  , -0.2823677 , -0.05619631, -0.4933262 ,\n",
       "        -0.30211326, -0.3311558 ,  0.05914254,  0.48351508, -0.9985363 ,\n",
       "         0.40234038, -0.7444647 , -0.44950417, -0.09387653, -0.8640384 ,\n",
       "         1.1322122 ,  0.86964643, -0.655546  , -1.2726848 ,  0.5691437 ,\n",
       "         0.09073579,  0.05429833, -0.9671119 , -0.39838928, -1.4364201 ],\n",
       "       dtype=float32)]"
      ]
     },
     "execution_count": 52,
     "metadata": {},
     "output_type": "execute_result"
    }
   ],
   "source": [
    "# Finding words similar to 'hospital'\n",
    "similar_words3 = model.wv.most_similar('tech', topn=40)\n",
    "print(\"Words similar to 'trade':\")\n",
    "\n",
    "group2 = []\n",
    "group2_words = []\n",
    "# Print words and transform them into vectors\n",
    "for word, score in similar_words3:\n",
    "    print(f\"{word}: {score}\")\n",
    "    group2_words.append(word)  # append words to list\n",
    "\n",
    "    group2.append(model.wv[word])  # Get the vector for each word\n",
    "\n",
    "group2"
   ]
  },
  {
   "cell_type": "code",
   "execution_count": 53,
   "id": "5220c6ce-9a93-42c9-9223-3d904cf44e0a",
   "metadata": {},
   "outputs": [
    {
     "data": {
      "text/plain": [
       "array([[ 0.10896575, -0.40884912,  0.97495174, ...,  0.5437534 ,\n",
       "        -0.92150414, -0.36585864],\n",
       "       [-0.3088137 ,  0.12564595,  0.35196814, ...,  0.00451843,\n",
       "        -0.40576455, -0.08662397],\n",
       "       [ 0.32617426,  0.20970546,  0.44849727, ...,  0.03585548,\n",
       "        -0.91809016, -0.9230109 ],\n",
       "       ...,\n",
       "       [ 0.8501971 ,  0.05488708,  0.64728177, ..., -0.5944216 ,\n",
       "        -0.919491  , -0.7156232 ],\n",
       "       [ 0.38702568,  0.5661314 ,  1.3824886 , ..., -0.66908836,\n",
       "        -0.94939744,  0.27531964],\n",
       "       [-0.10213328,  0.6571383 ,  0.25479066, ..., -0.9671119 ,\n",
       "        -0.39838928, -1.4364201 ]], dtype=float32)"
      ]
     },
     "execution_count": 53,
     "metadata": {},
     "output_type": "execute_result"
    }
   ],
   "source": [
    "all_vectors = np.vstack((group1, group2))\n",
    "all_vectors"
   ]
  },
  {
   "cell_type": "code",
   "execution_count": 54,
   "id": "e260c137-1822-49a5-9ee3-2a30abb6f2de",
   "metadata": {},
   "outputs": [
    {
     "data": {
      "image/png": "[encoded data removed]",
      "text/plain": [
       "<Figure size 640x480 with 1 Axes>"
      ]
     },
     "metadata": {},
     "output_type": "display_data"
    }
   ],
   "source": [
    "\n",
    "pca = PCA(n_components=2)\n",
    "pca_result = pca.fit_transform(all_vectors)\n",
    "\n",
    "group1_pca = pca_result[:len(group1)]\n",
    "group2_pca = pca_result[len(group1):]\n",
    "\n",
    "\n",
    "\n",
    "plt.scatter(group1_pca[:, 0], group1_pca[:, 1], color='blue', label='Group 1 (Korea)')\n",
    "\n",
    "plt.scatter(group2_pca[:, 0], group2_pca[:, 1], color='purple', label='Group 2 (Trade)')\n",
    "\n",
    "for i, word in enumerate(group1_words):\n",
    "    plt.annotate(word, xy=(group1_pca[i, 0], group1_pca[i, 1]), color='blue')\n",
    "\n",
    "for i, word in enumerate(group2_words):\n",
    "    plt.annotate(word, xy=(group2_pca[i, 0], group2_pca[i, 1]), color='purple')\n",
    "\n",
    "plt.title('PCA Word Embedding Visualization')\n",
    "plt.xlabel('Component 1')\n",
    "plt.ylabel('Component 2')\n",
    "plt.legend()\n",
    "plt.show()"
   ]
  }
 ],
 "metadata": {
  "kernelspec": {
   "display_name": "Python 3 (ipykernel)",
   "language": "python",
   "name": "python3"
  },
  "language_info": {
   "codemirror_mode": {
    "name": "ipython",
    "version": 3
   },
   "file_extension": ".py",
   "mimetype": "text/x-python",
   "name": "python",
   "nbconvert_exporter": "python",
   "pygments_lexer": "ipython3",
   "version": "3.11.7"
  }
 },
 "nbformat": 4,
 "nbformat_minor": 5
}
