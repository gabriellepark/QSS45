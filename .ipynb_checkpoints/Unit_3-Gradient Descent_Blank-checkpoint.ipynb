{
 "cells": [
  {
   "cell_type": "code",
   "execution_count": 124,
   "id": "b762d8a6",
   "metadata": {},
   "outputs": [],
   "source": [
    "import pandas as pd"
   ]
  },
  {
   "cell_type": "code",
   "execution_count": 125,
   "id": "362bd968",
   "metadata": {},
   "outputs": [],
   "source": [
    "import numpy as np\n",
    "import matplotlib.pyplot as plt\n",
    "\n",
    "# Gradient Descent Parameters\n",
    "alpha = learning_rate = 0.01\n",
    "iterations = 1000"
   ]
  },
  {
   "cell_type": "markdown",
   "id": "18f1c559",
   "metadata": {},
   "source": [
    "Like last time, generate synthetic date with $\\beta_0 = 5$ and $\\beta_1 = 3$. 1000 points should be fine. You should have an array of x and y values."
   ]
  },
  {
   "cell_type": "code",
   "execution_count": 126,
   "id": "08f6537f",
   "metadata": {},
   "outputs": [],
   "source": [
    "# Your code\n",
    "\n",
    "# True parameters of the linear model\n",
    "beta_0 = 5   # Intercept\n",
    "beta_1 = 3   # Slope\n",
    "\n",
    "# your code\n",
    "\n",
    "x = np.random.randn(iterations)\n",
    "\n",
    "y = (x * beta_1) + beta_0 + np.random.randn(iterations)\n"
   ]
  },
  {
   "cell_type": "markdown",
   "id": "20a4425a",
   "metadata": {},
   "source": [
    "In the real world, you do not know these beta values. Your goal is to find them! So, pretending you do not know $\\beta_0 = 5$ and $\\beta_1 = 3$, proceed as if you only observe x and y."
   ]
  },
  {
   "cell_type": "markdown",
   "id": "7a28766a",
   "metadata": {},
   "source": [
    "First, randomly guess $\\beta_0$ and $\\beta_1$, using the random operations in numpy."
   ]
  },
  {
   "cell_type": "code",
   "execution_count": 127,
   "id": "c1ee5ea1",
   "metadata": {},
   "outputs": [],
   "source": [
    "# Your code to randomly guess b0 and b1\n",
    "\n",
    "beta_0_guess = np.random.randint(0,10)\n",
    "beta_1_guess = np.random.randint(0,10)\n"
   ]
  },
  {
   "cell_type": "markdown",
   "id": "4404c65b",
   "metadata": {},
   "source": [
    "Write a function to compute the cost. This should be $\\frac{1}{n} \\sum ( y_{pred} - y )^2$. This is known as mean square loss. Your function should take in the real x and y values, then your guess of b0 and b1, then compute the loss."
   ]
  },
  {
   "cell_type": "code",
   "execution_count": 128,
   "id": "b9f830ee",
   "metadata": {},
   "outputs": [],
   "source": [
    "# Code for mean squared error (MSE)\n",
    "\n",
    "def mse(x, y, beta_0, beta_1):\n",
    "    return(((x * beta_1 + beta_0) - y)**2).sum()/x.size"
   ]
  },
  {
   "cell_type": "code",
   "execution_count": 129,
   "id": "d0b712ff-a32a-45f7-95f9-0da3174549fa",
   "metadata": {},
   "outputs": [
    {
     "data": {
      "text/plain": [
       "47.23585306564167"
      ]
     },
     "execution_count": 129,
     "metadata": {},
     "output_type": "execute_result"
    }
   ],
   "source": [
    "mse(x, y, beta_0_guess, beta_1_guess)"
   ]
  },
  {
   "cell_type": "markdown",
   "id": "5b923609",
   "metadata": {},
   "source": [
    "We are now going to walk through one iteration of gradient descent.\n",
    "* Using the existing guesses for $\\beta_0$ and $\\beta_1$, generate predictions for y\n",
    "* Calculate the gradients for $\\beta_0$ and $\\beta_1$ then use it to update the existing $\\beta$ values.\n",
    "* Compute the cost."
   ]
  },
  {
   "cell_type": "code",
   "execution_count": 130,
   "id": "82253a57",
   "metadata": {},
   "outputs": [],
   "source": [
    "# Code for one iteration.\n",
    "y_pred = x * beta_1_guess + beta_0_guess\n",
    "\n",
    "beta0_grad = beta_0_guess - (alpha/x.size)*((y_pred-y).sum())\n",
    "beta1_grad = beta_1_guess - (alpha/x.size)*(((y_pred-y)*x).sum())\n",
    "\n"
   ]
  },
  {
   "cell_type": "markdown",
   "id": "a5564e8e",
   "metadata": {},
   "source": [
    "Write a for loop that iterates through the total iterations (1000). Within each loop, update $\\beta_0$ and $\\beta_1$.\n",
    "\n",
    "Also, create an empty list that saves the cost each iteration, and two other lists for $\\beta_0$ and $\\beta_1$. You want to see that the loss is going down. To check this, print the loss every 100 iterations."
   ]
  },
  {
   "cell_type": "code",
   "execution_count": 131,
   "id": "771ea848",
   "metadata": {},
   "outputs": [
    {
     "name": "stdout",
     "output_type": "stream",
     "text": [
      "1244.6368755573537\n",
      "157.9907582767779\n",
      "20.884359259218822\n",
      "3.5850694287827305\n",
      "1.402340304608715\n",
      "1.1269348778481554\n",
      "1.0921855591941538\n",
      "1.0878010466677062\n",
      "1.0872478269702326\n",
      "1.0871780237700286\n"
     ]
    }
   ],
   "source": [
    "# Gradient Descent Function\n",
    "def gradient_descent(x, y, learning_rate, iterations):\n",
    "    # your code here\n",
    "    cost_history = []\n",
    "    b0_list = []\n",
    "    b1_list = []\n",
    "    b0 = (np.random.randint(0,100))\n",
    "    b1 = (np.random.randint(0,100))\n",
    "    for i in range(iterations):\n",
    "        y_pred = x * b1 + b0\n",
    "\n",
    "        b0 = b0 - (learning_rate/x.size)*((y_pred-y).sum())\n",
    "        b1 = b1 - (learning_rate/x.size)*(((y_pred-y)*x).sum())\n",
    "        b0_list.append(b0)\n",
    "        b1_list.append(b1)\n",
    "        \n",
    "        cost = mse(x, y, b0, b1)\n",
    "        cost_history.append(cost)\n",
    "        \n",
    "        if i%100 == 0: print(cost)\n",
    "    \n",
    "    return b0_list, b1_list, cost_history\n",
    "\n",
    "# Run Gradient Descent\n",
    "final_b0, final_b1, cost_history = gradient_descent(x, y,learning_rate, iterations)"
   ]
  },
  {
   "cell_type": "markdown",
   "id": "ce94a15a",
   "metadata": {},
   "source": [
    "Plot a scatter plot of the x and y, then your regression line. You should use plt.plot and input predicted y values based on $x_{min}$ and $x_{max}$."
   ]
  },
  {
   "cell_type": "code",
   "execution_count": 132,
   "id": "f3c6998a-e165-4f6c-9567-5db7f4c997e9",
   "metadata": {},
   "outputs": [
    {
     "data": {
      "text/plain": [
       "numpy.float64"
      ]
     },
     "execution_count": 132,
     "metadata": {},
     "output_type": "execute_result"
    }
   ],
   "source": [
    "type(final_b0[0])"
   ]
  },
  {
   "cell_type": "code",
   "execution_count": 133,
   "id": "1e9453e3",
   "metadata": {},
   "outputs": [
    {
     "ename": "TypeError",
     "evalue": "can't multiply sequence by non-int of type 'numpy.float64'",
     "output_type": "error",
     "traceback": [
      "\u001b[0;31m---------------------------------------------------------------------------\u001b[0m",
      "\u001b[0;31mTypeError\u001b[0m                                 Traceback (most recent call last)",
      "Cell \u001b[0;32mIn[133], line 4\u001b[0m\n\u001b[1;32m      1\u001b[0m plt\u001b[38;5;241m.\u001b[39mscatter(x, y)\n\u001b[1;32m      3\u001b[0m linear_fx \u001b[38;5;241m=\u001b[39m \u001b[38;5;28;01mlambda\u001b[39;00m x: final_b0 \u001b[38;5;241m+\u001b[39m final_b1 \u001b[38;5;241m*\u001b[39m x\n\u001b[0;32m----> 4\u001b[0m ymin, ymax \u001b[38;5;241m=\u001b[39m linear_fx(x\u001b[38;5;241m.\u001b[39mmin()), linear_fx(x\u001b[38;5;241m.\u001b[39mmax())\n\u001b[1;32m      5\u001b[0m plt\u001b[38;5;241m.\u001b[39mplot([x\u001b[38;5;241m.\u001b[39mmin(), x\u001b[38;5;241m.\u001b[39mmax()], [ymin, ymax])\n",
      "Cell \u001b[0;32mIn[133], line 3\u001b[0m, in \u001b[0;36m<lambda>\u001b[0;34m(x)\u001b[0m\n\u001b[1;32m      1\u001b[0m plt\u001b[38;5;241m.\u001b[39mscatter(x, y)\n\u001b[0;32m----> 3\u001b[0m linear_fx \u001b[38;5;241m=\u001b[39m \u001b[38;5;28;01mlambda\u001b[39;00m x: final_b0 \u001b[38;5;241m+\u001b[39m final_b1 \u001b[38;5;241m*\u001b[39m x\n\u001b[1;32m      4\u001b[0m ymin, ymax \u001b[38;5;241m=\u001b[39m linear_fx(x\u001b[38;5;241m.\u001b[39mmin()), linear_fx(x\u001b[38;5;241m.\u001b[39mmax())\n\u001b[1;32m      5\u001b[0m plt\u001b[38;5;241m.\u001b[39mplot([x\u001b[38;5;241m.\u001b[39mmin(), x\u001b[38;5;241m.\u001b[39mmax()], [ymin, ymax])\n",
      "\u001b[0;31mTypeError\u001b[0m: can't multiply sequence by non-int of type 'numpy.float64'"
     ]
    },
    {
     "data": {
      "image/png": "[encoded data removed]",
      "text/plain": [
       "<Figure size 640x480 with 1 Axes>"
      ]
     },
     "metadata": {},
     "output_type": "display_data"
    }
   ],
   "source": [
    "plt.scatter(x, y)\n",
    "\n",
    "linear_fx = lambda x: final_b0 + final_b1 * x\n",
    "ymin, ymax = linear_fx(x.min()), linear_fx(x.max())\n",
    "plt.plot([x.min(), x.max()], [ymin, ymax])\n"
   ]
  },
  {
   "cell_type": "markdown",
   "id": "d244c2b0",
   "metadata": {},
   "source": [
    "Plot the cost overtime. X-axis is the iteration, y-axis is the cost."
   ]
  },
  {
   "cell_type": "code",
   "execution_count": null,
   "id": "cc2960d5",
   "metadata": {},
   "outputs": [],
   "source": [
    "y_pred = x.min() * final_b1 + final_b0\n",
    "y_pred"
   ]
  },
  {
   "cell_type": "markdown",
   "id": "9abdf254",
   "metadata": {},
   "source": [
    "Plot the evolution of the beta values."
   ]
  },
  {
   "cell_type": "code",
   "execution_count": 115,
   "id": "60ef40ad",
   "metadata": {},
   "outputs": [
    {
     "data": {
      "text/plain": [
       "<matplotlib.collections.PathCollection at 0x162c118d0>"
      ]
     },
     "execution_count": 115,
     "metadata": {},
     "output_type": "execute_result"
    },
    {
     "data": {
      "image/png": "[encoded data removed]",
      "text/plain": [
       "<Figure size 640x480 with 1 Axes>"
      ]
     },
     "metadata": {},
     "output_type": "display_data"
    }
   ],
   "source": [
    "plt.scatter(final_b0, final_b1, s=1)"
   ]
  },
  {
   "cell_type": "code",
   "execution_count": null,
   "id": "f6e69352",
   "metadata": {},
   "outputs": [],
   "source": []
  },
  {
   "cell_type": "code",
   "execution_count": null,
   "id": "30f606fd",
   "metadata": {},
   "outputs": [],
   "source": []
  }
 ],
 "metadata": {
  "kernelspec": {
   "display_name": "Python 3 (ipykernel)",
   "language": "python",
   "name": "python3"
  },
  "language_info": {
   "codemirror_mode": {
    "name": "ipython",
    "version": 3
   },
   "file_extension": ".py",
   "mimetype": "text/x-python",
   "name": "python",
   "nbconvert_exporter": "python",
   "pygments_lexer": "ipython3",
   "version": "3.11.7"
  }
 },
 "nbformat": 4,
 "nbformat_minor": 5
}
