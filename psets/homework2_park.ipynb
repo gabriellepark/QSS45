{
 "cells": [
  {
   "cell_type": "code",
   "execution_count": 1,
   "id": "cdca62a5-aa15-4a91-8c64-55dc77a26e30",
   "metadata": {},
   "outputs": [],
   "source": [
    "import seaborn as sns\n",
    "import pandas as pd\n",
    "from sklearn.model_selection import train_test_split\n",
    "from sklearn.metrics import accuracy_score, classification_report\n",
    "from catboost import CatBoostClassifier\n",
    "import numpy as np\n",
    "import pandas as pd\n",
    "import matplotlib.pyplot as plt\n",
    "import seaborn as sns\n",
    "from sklearn.model_selection import train_test_split\n",
    "from sklearn.preprocessing import LabelEncoder\n",
    "from sklearn.tree import DecisionTreeClassifier, DecisionTreeRegressor\n",
    "import time\n",
    "from sklearn.ensemble import RandomForestClassifier, RandomForestRegressor\n",
    "from sklearn.metrics import accuracy_score, classification_report, confusion_matrix\n",
    "\n",
    "\n",
    "\n",
    "from catboost import CatBoostRegressor\n",
    "import shap\n"
   ]
  },
  {
   "cell_type": "code",
   "execution_count": 8,
   "id": "d8780d55-54b1-47ad-bbcb-87b84e5ea2cb",
   "metadata": {},
   "outputs": [
    {
     "name": "stderr",
     "output_type": "stream",
     "text": [
      "/var/folders/62/q5cwr8p541q40q2zbtg90hxh0000gn/T/ipykernel_22720/1582042069.py:1: DtypeWarning: Columns (38) have mixed types. Specify dtype option on import or set low_memory=False.\n",
      "  df1 = pd.read_csv('qss45_data/insta_master.csv')\n"
     ]
    }
   ],
   "source": [
    "# df1 = pd.read_csv('qss45_data/insta_master.csv')"
   ]
  },
  {
   "cell_type": "code",
   "execution_count": 11,
   "id": "a8d23499-6f69-4a8c-aeee-009c491b9e49",
   "metadata": {},
   "outputs": [
    {
     "data": {
      "text/plain": [
       "<bound method NDFrame.head of                              platformId   platform                 date  \\\n",
       "0       3431175142757751349_55850513237  Instagram  2024-08-09 23:59:35   \n",
       "1        3431174939163180491_1775748891  Instagram  2024-08-09 23:59:08   \n",
       "2           3431174432215821166_2661111  Instagram  2024-08-09 23:58:08   \n",
       "3         3431174035050498945_238158378  Instagram  2024-08-09 23:57:20   \n",
       "4        3431173823926694232_6912946619  Instagram  2024-08-09 23:56:55   \n",
       "...                                 ...        ...                  ...   \n",
       "541805   3339128973651679939_1033948183  Instagram  2024-04-05 00:00:18   \n",
       "541806   3339128998699604846_1596032387  Instagram  2024-04-05 00:00:17   \n",
       "541807   3339129326871005932_5789449080  Instagram  2024-04-05 00:00:11   \n",
       "541808   3339128914268326250_1622705602  Instagram  2024-04-05 00:00:08   \n",
       "541809  3339083139572027678_45297481145  Instagram  2024-04-05 00:00:01   \n",
       "\n",
       "                    updated   type  \\\n",
       "0       2024-08-12 18:20:31  photo   \n",
       "1       2024-08-12 13:06:33  photo   \n",
       "2       2024-08-13 14:06:50  photo   \n",
       "3       2024-08-13 17:52:31  album   \n",
       "4       2024-08-12 17:37:18  photo   \n",
       "...                     ...    ...   \n",
       "541805  2024-06-24 19:56:46  photo   \n",
       "541806  2024-04-27 15:00:45  photo   \n",
       "541807  2024-06-20 19:36:44  album   \n",
       "541808  2024-06-09 00:09:09  photo   \n",
       "541809  2024-07-08 00:49:06  photo   \n",
       "\n",
       "                                              description  \\\n",
       "0       The defense argued there's no evidence that th...   \n",
       "1       A California man with a history of political v...   \n",
       "2       #KamalaHarris and #TimWalz set a record for th...   \n",
       "3             The kind of Democrat this country deserves.   \n",
       "4       #NUEVACONSTITUCIÓN | 📝LOS PRINCIPALES EJES DE ...   \n",
       "...                                                   ...   \n",
       "541805  The Democratic Party is running a candidate in...   \n",
       "541806  Embracing Black Men’s Voices: Rebuilding trust...   \n",
       "541807  En Marzo volvimos a poner en marcha #LaRondaPu...   \n",
       "541808  The American Conservative, a right-wing blog a...   \n",
       "541809  President Biden continues to call on Republica...   \n",
       "\n",
       "                                         postUrl  subscriberCount       score  \\\n",
       "0       https://www.instagram.com/p/C-d-5z6Odo1/                0 -222.000000   \n",
       "1       https://www.instagram.com/p/C-d-22TCz3L/            24748   -2.800000   \n",
       "2       https://www.instagram.com/p/C-d-veKoGtu/            49573   -1.087571   \n",
       "3       https://www.instagram.com/p/C-d-psRuouB/            40753   -1.352697   \n",
       "4       https://www.instagram.com/p/C-d-mnpxPFY/            10938   -0.571429   \n",
       "...                                          ...              ...         ...   \n",
       "541805  https://www.instagram.com/p/C5W-BwtuRrD/            16262    2.205128   \n",
       "541806  https://www.instagram.com/p/C5W-CICshtu/             1690   -0.666667   \n",
       "541807  https://www.instagram.com/p/C5W-G5rPErs/             3161   -5.488372   \n",
       "541808  https://www.instagram.com/p/C5W-A5aMwlq/             4721   -1.633333   \n",
       "541809  https://www.instagram.com/p/C5WzmyZr9Ee/          7656166   -1.660795   \n",
       "\n",
       "                                                    media  ...  \\\n",
       "0       [{'type': 'photo', 'url': 'https://scontent-se...  ...   \n",
       "1       [{'type': 'photo', 'url': 'https://scontent-se...  ...   \n",
       "2       [{'type': 'photo', 'url': 'https://scontent-se...  ...   \n",
       "3       [{'type': 'photo', 'url': 'https://scontent-se...  ...   \n",
       "4       [{'type': 'photo', 'url': 'https://scontent-se...  ...   \n",
       "...                                                   ...  ...   \n",
       "541805  [{'type': 'photo', 'url': 'https://scontent-se...  ...   \n",
       "541806  [{'type': 'photo', 'url': 'https://scontent-se...  ...   \n",
       "541807  [{'type': 'photo', 'url': 'https://scontent-se...  ...   \n",
       "541808  [{'type': 'photo', 'url': 'https://scontent-se...  ...   \n",
       "541809  [{'type': 'photo', 'url': 'https://scontent-se...  ...   \n",
       "\n",
       "        brandedContentSponsor.id brandedContentSponsor.name  \\\n",
       "0                            NaN                        NaN   \n",
       "1                            NaN                        NaN   \n",
       "2                            NaN                        NaN   \n",
       "3                            NaN                        NaN   \n",
       "4                            NaN                        NaN   \n",
       "...                          ...                        ...   \n",
       "541805                       NaN                        NaN   \n",
       "541806                       NaN                        NaN   \n",
       "541807                       NaN                        NaN   \n",
       "541808                       NaN                        NaN   \n",
       "541809                       NaN                        NaN   \n",
       "\n",
       "        brandedContentSponsor.handle brandedContentSponsor.profileImage  \\\n",
       "0                                NaN                                NaN   \n",
       "1                                NaN                                NaN   \n",
       "2                                NaN                                NaN   \n",
       "3                                NaN                                NaN   \n",
       "4                                NaN                                NaN   \n",
       "...                              ...                                ...   \n",
       "541805                           NaN                                NaN   \n",
       "541806                           NaN                                NaN   \n",
       "541807                           NaN                                NaN   \n",
       "541808                           NaN                                NaN   \n",
       "541809                           NaN                                NaN   \n",
       "\n",
       "        brandedContentSponsor.subscriberCount  brandedContentSponsor.url  \\\n",
       "0                                         NaN                        NaN   \n",
       "1                                         NaN                        NaN   \n",
       "2                                         NaN                        NaN   \n",
       "3                                         NaN                        NaN   \n",
       "4                                         NaN                        NaN   \n",
       "...                                       ...                        ...   \n",
       "541805                                    NaN                        NaN   \n",
       "541806                                    NaN                        NaN   \n",
       "541807                                    NaN                        NaN   \n",
       "541808                                    NaN                        NaN   \n",
       "541809                                    NaN                        NaN   \n",
       "\n",
       "        brandedContentSponsor.platform  brandedContentSponsor.platformId  \\\n",
       "0                                  NaN                               NaN   \n",
       "1                                  NaN                               NaN   \n",
       "2                                  NaN                               NaN   \n",
       "3                                  NaN                               NaN   \n",
       "4                                  NaN                               NaN   \n",
       "...                                ...                               ...   \n",
       "541805                             NaN                               NaN   \n",
       "541806                             NaN                               NaN   \n",
       "541807                             NaN                               NaN   \n",
       "541808                             NaN                               NaN   \n",
       "541809                             NaN                               NaN   \n",
       "\n",
       "        brandedContentSponsor.verified account.pageDescription  \n",
       "0                                  NaN                     NaN  \n",
       "1                                  NaN                     NaN  \n",
       "2                                  NaN                     NaN  \n",
       "3                                  NaN                     NaN  \n",
       "4                                  NaN                     NaN  \n",
       "...                                ...                     ...  \n",
       "541805                             NaN                     NaN  \n",
       "541806                             NaN                     NaN  \n",
       "541807                             NaN                     NaN  \n",
       "541808                             NaN                     NaN  \n",
       "541809                             NaN                     NaN  \n",
       "\n",
       "[541810 rows x 39 columns]>"
      ]
     },
     "execution_count": 11,
     "metadata": {},
     "output_type": "execute_result"
    }
   ],
   "source": [
    "# df1.head"
   ]
  },
  {
   "cell_type": "code",
   "execution_count": 2,
   "id": "235dd2d7-4234-4380-aab7-49ae0d604b05",
   "metadata": {},
   "outputs": [
    {
     "name": "stdout",
     "output_type": "stream",
     "text": [
      "Collecting instaloader\n",
      "  Downloading instaloader-4.13.1.tar.gz (65 kB)\n",
      "\u001b[2K     \u001b[90m━━━━━━━━━━━━━━━━━━━━━━━━━━━━━━━━━━━━━━━━\u001b[0m \u001b[32m65.1/65.1 kB\u001b[0m \u001b[31m1.5 MB/s\u001b[0m eta \u001b[36m0:00:00\u001b[0m\n",
      "\u001b[?25h  Preparing metadata (setup.py) ... \u001b[?25ldone\n",
      "\u001b[?25hRequirement already satisfied: requests>=2.4 in /opt/anaconda3/lib/python3.11/site-packages (from instaloader) (2.31.0)\n",
      "Requirement already satisfied: charset-normalizer<4,>=2 in /opt/anaconda3/lib/python3.11/site-packages (from requests>=2.4->instaloader) (2.0.4)\n",
      "Requirement already satisfied: idna<4,>=2.5 in /opt/anaconda3/lib/python3.11/site-packages (from requests>=2.4->instaloader) (3.4)\n",
      "Requirement already satisfied: urllib3<3,>=1.21.1 in /opt/anaconda3/lib/python3.11/site-packages (from requests>=2.4->instaloader) (2.0.7)\n",
      "Requirement already satisfied: certifi>=2017.4.17 in /opt/anaconda3/lib/python3.11/site-packages (from requests>=2.4->instaloader) (2024.2.2)\n",
      "Building wheels for collected packages: instaloader\n",
      "  Building wheel for instaloader (setup.py) ... \u001b[?25ldone\n",
      "\u001b[?25h  Created wheel for instaloader: filename=instaloader-4.13.1-py3-none-any.whl size=67213 sha256=e158de517dee1bc493d5b7a9a796f4253f03347aa53bf99ea9f021d99454cbda\n",
      "  Stored in directory: /Users/gabriellepark/Library/Caches/pip/wheels/5d/86/0b/54cbf6960a21dc3873604aa17c8fac43e3a3b677409167b5b5\n",
      "Successfully built instaloader\n",
      "Installing collected packages: instaloader\n",
      "Successfully installed instaloader-4.13.1\n",
      "Note: you may need to restart the kernel to use updated packages.\n"
     ]
    }
   ],
   "source": [
    "# pip install instaloader"
   ]
  },
  {
   "cell_type": "code",
   "execution_count": 5,
   "id": "5d159298-873d-4101-92b0-3a3a84266e32",
   "metadata": {},
   "outputs": [
    {
     "ename": "SyntaxError",
     "evalue": "invalid syntax (78897559.py, line 1)",
     "output_type": "error",
     "traceback": [
      "\u001b[0;36m  Cell \u001b[0;32mIn[5], line 1\u001b[0;36m\u001b[0m\n\u001b[0;31m    instaloader \"#mlb\" --post-metadata-txt --max-count 100\u001b[0m\n\u001b[0m                ^\u001b[0m\n\u001b[0;31mSyntaxError\u001b[0m\u001b[0;31m:\u001b[0m invalid syntax\n"
     ]
    }
   ],
   "source": [
    "# instaloader \"#mlb\" --post-metadata-txt --max-count 100"
   ]
  },
  {
   "cell_type": "code",
   "execution_count": 15,
   "id": "7c80255b-b444-4d59-b8cf-25445fc05f76",
   "metadata": {},
   "outputs": [
    {
     "name": "stdout",
     "output_type": "stream",
     "text": [
      "Requirement already satisfied: pyarrow in /opt/anaconda3/lib/python3.11/site-packages (17.0.0)\n",
      "Requirement already satisfied: numpy>=1.16.6 in /opt/anaconda3/lib/python3.11/site-packages (from pyarrow) (1.26.4)\n",
      "Note: you may need to restart the kernel to use updated packages.\n"
     ]
    }
   ],
   "source": [
    "pip install pyarrow"
   ]
  },
  {
   "cell_type": "code",
   "execution_count": 2,
   "id": "391cd9e9-ae72-4983-8253-10979b0491ab",
   "metadata": {},
   "outputs": [],
   "source": [
    "import pyarrow"
   ]
  },
  {
   "cell_type": "code",
   "execution_count": 3,
   "id": "41461f81-e606-41a7-b1f0-a8da16efb2d4",
   "metadata": {},
   "outputs": [
    {
     "name": "stdout",
     "output_type": "stream",
     "text": [
      "Requirement already satisfied: datasets in /opt/anaconda3/lib/python3.11/site-packages (3.0.2)\n",
      "Requirement already satisfied: filelock in /opt/anaconda3/lib/python3.11/site-packages (from datasets) (3.13.1)\n",
      "Requirement already satisfied: numpy>=1.17 in /opt/anaconda3/lib/python3.11/site-packages (from datasets) (1.26.4)\n",
      "Requirement already satisfied: pyarrow>=15.0.0 in /opt/anaconda3/lib/python3.11/site-packages (from datasets) (17.0.0)\n",
      "Requirement already satisfied: dill<0.3.9,>=0.3.0 in /opt/anaconda3/lib/python3.11/site-packages (from datasets) (0.3.8)\n",
      "Requirement already satisfied: pandas in /opt/anaconda3/lib/python3.11/site-packages (from datasets) (2.1.4)\n",
      "Requirement already satisfied: requests>=2.32.2 in /opt/anaconda3/lib/python3.11/site-packages (from datasets) (2.32.3)\n",
      "Requirement already satisfied: tqdm>=4.66.3 in /opt/anaconda3/lib/python3.11/site-packages (from datasets) (4.66.5)\n",
      "Requirement already satisfied: xxhash in /opt/anaconda3/lib/python3.11/site-packages (from datasets) (3.5.0)\n",
      "Requirement already satisfied: multiprocess<0.70.17 in /opt/anaconda3/lib/python3.11/site-packages (from datasets) (0.70.16)\n",
      "Requirement already satisfied: fsspec<=2024.9.0,>=2023.1.0 in /opt/anaconda3/lib/python3.11/site-packages (from fsspec[http]<=2024.9.0,>=2023.1.0->datasets) (2023.10.0)\n",
      "Requirement already satisfied: aiohttp in /opt/anaconda3/lib/python3.11/site-packages (from datasets) (3.9.3)\n",
      "Requirement already satisfied: huggingface-hub>=0.23.0 in /opt/anaconda3/lib/python3.11/site-packages (from datasets) (0.26.1)\n",
      "Requirement already satisfied: packaging in /opt/anaconda3/lib/python3.11/site-packages (from datasets) (23.1)\n",
      "Requirement already satisfied: pyyaml>=5.1 in /opt/anaconda3/lib/python3.11/site-packages (from datasets) (6.0.1)\n",
      "Requirement already satisfied: aiosignal>=1.1.2 in /opt/anaconda3/lib/python3.11/site-packages (from aiohttp->datasets) (1.2.0)\n",
      "Requirement already satisfied: attrs>=17.3.0 in /opt/anaconda3/lib/python3.11/site-packages (from aiohttp->datasets) (23.1.0)\n",
      "Requirement already satisfied: frozenlist>=1.1.1 in /opt/anaconda3/lib/python3.11/site-packages (from aiohttp->datasets) (1.4.0)\n",
      "Requirement already satisfied: multidict<7.0,>=4.5 in /opt/anaconda3/lib/python3.11/site-packages (from aiohttp->datasets) (6.0.4)\n",
      "Requirement already satisfied: yarl<2.0,>=1.0 in /opt/anaconda3/lib/python3.11/site-packages (from aiohttp->datasets) (1.9.3)\n",
      "Requirement already satisfied: typing-extensions>=3.7.4.3 in /opt/anaconda3/lib/python3.11/site-packages (from huggingface-hub>=0.23.0->datasets) (4.9.0)\n",
      "Requirement already satisfied: charset-normalizer<4,>=2 in /opt/anaconda3/lib/python3.11/site-packages (from requests>=2.32.2->datasets) (2.0.4)\n",
      "Requirement already satisfied: idna<4,>=2.5 in /opt/anaconda3/lib/python3.11/site-packages (from requests>=2.32.2->datasets) (3.4)\n",
      "Requirement already satisfied: urllib3<3,>=1.21.1 in /opt/anaconda3/lib/python3.11/site-packages (from requests>=2.32.2->datasets) (2.0.7)\n",
      "Requirement already satisfied: certifi>=2017.4.17 in /opt/anaconda3/lib/python3.11/site-packages (from requests>=2.32.2->datasets) (2024.2.2)\n",
      "Requirement already satisfied: python-dateutil>=2.8.2 in /opt/anaconda3/lib/python3.11/site-packages (from pandas->datasets) (2.8.2)\n",
      "Requirement already satisfied: pytz>=2020.1 in /opt/anaconda3/lib/python3.11/site-packages (from pandas->datasets) (2023.3.post1)\n",
      "Requirement already satisfied: tzdata>=2022.1 in /opt/anaconda3/lib/python3.11/site-packages (from pandas->datasets) (2023.3)\n",
      "Requirement already satisfied: six>=1.5 in /opt/anaconda3/lib/python3.11/site-packages (from python-dateutil>=2.8.2->pandas->datasets) (1.16.0)\n",
      "Note: you may need to restart the kernel to use updated packages.\n"
     ]
    }
   ],
   "source": [
    "pip install datasets"
   ]
  },
  {
   "cell_type": "code",
   "execution_count": 4,
   "id": "25397d63-7a96-4138-a190-0b9cd11f7cc0",
   "metadata": {},
   "outputs": [
    {
     "ename": "NameError",
     "evalue": "name 'datasets' is not defined",
     "output_type": "error",
     "traceback": [
      "\u001b[0;31m---------------------------------------------------------------------------\u001b[0m",
      "\u001b[0;31mNameError\u001b[0m                                 Traceback (most recent call last)",
      "Cell \u001b[0;32mIn[4], line 1\u001b[0m\n\u001b[0;32m----> 1\u001b[0m \u001b[38;5;28mprint\u001b[39m(\u001b[38;5;124m\"\u001b[39m\u001b[38;5;124mDatasets version:\u001b[39m\u001b[38;5;124m\"\u001b[39m, datasets\u001b[38;5;241m.\u001b[39m__version__)\n\u001b[1;32m      2\u001b[0m \u001b[38;5;28mprint\u001b[39m(\u001b[38;5;124m\"\u001b[39m\u001b[38;5;124mPyArrow version:\u001b[39m\u001b[38;5;124m\"\u001b[39m, pyarrow\u001b[38;5;241m.\u001b[39m__version__)\n",
      "\u001b[0;31mNameError\u001b[0m: name 'datasets' is not defined"
     ]
    }
   ],
   "source": [
    "print(\"Datasets version:\", datasets.__version__)\n",
    "print(\"PyArrow version:\", pyarrow.__version__)"
   ]
  },
  {
   "cell_type": "code",
   "execution_count": 5,
   "id": "94ad16b8-6a90-4f75-9ce6-11edb75b4e51",
   "metadata": {},
   "outputs": [
    {
     "ename": "SyntaxError",
     "evalue": "invalid syntax (4250404254.py, line 2)",
     "output_type": "error",
     "traceback": [
      "\u001b[0;36m  Cell \u001b[0;32mIn[5], line 2\u001b[0;36m\u001b[0m\n\u001b[0;31m    pip install jupyterlab==3.0.0 ipywidgets==7.6.0\u001b[0m\n\u001b[0m        ^\u001b[0m\n\u001b[0;31mSyntaxError\u001b[0m\u001b[0;31m:\u001b[0m invalid syntax\n"
     ]
    }
   ],
   "source": [
    "# Example: Downgrading to a specific version\n",
    "pip install jupyterlab==3.0.0 ipywidgets==7.6.0\n"
   ]
  },
  {
   "cell_type": "code",
   "execution_count": 6,
   "id": "88719314-ccef-498b-b367-301d6ebfecd8",
   "metadata": {},
   "outputs": [],
   "source": [
    "from datasets import load_dataset\n",
    "\n",
    "ds = load_dataset(\"Artificio/WikiArt_Full\")"
   ]
  },
  {
   "cell_type": "code",
   "execution_count": 17,
   "id": "ea610491-009d-4ca0-b445-4649b49cdc7b",
   "metadata": {},
   "outputs": [],
   "source": [
    "train_dataset = ds['train']  # This is your Dataset\n"
   ]
  },
  {
   "cell_type": "code",
   "execution_count": 19,
   "id": "ce9c6825-cd69-4aa9-b739-7eae4df350e9",
   "metadata": {},
   "outputs": [
    {
     "data": {
      "application/vnd.jupyter.widget-view+json": {
       "model_id": "683e16d03efe43198c2c45f115ad18ec",
       "version_major": 2,
       "version_minor": 0
      },
      "text/plain": [
       "Map:   0%|          | 0/103250 [00:00<?, ? examples/s]"
      ]
     },
     "metadata": {},
     "output_type": "display_data"
    }
   ],
   "source": [
    "selected_columns = train_dataset.map(lambda x: {k: x[k] for k in ['title', 'artist', 'date', 'genre', 'style', 'description']})\n"
   ]
  },
  {
   "cell_type": "code",
   "execution_count": null,
   "id": "8d0b3fc4-feff-4d90-bdee-3b4756ab117e",
   "metadata": {},
   "outputs": [],
   "source": []
  },
  {
   "cell_type": "code",
   "execution_count": 20,
   "id": "84090f24-22a1-43be-b7da-7051465e58b4",
   "metadata": {},
   "outputs": [
    {
     "data": {
      "text/plain": [
       "Dataset({\n",
       "    features: ['title', 'artist', 'date', 'genre', 'style', 'description', 'filename', 'image', 'embeddings_pca512', 'resnet50_non_robust_feats', 'resnet50_robust_feats'],\n",
       "    num_rows: 103250\n",
       "})"
      ]
     },
     "execution_count": 20,
     "metadata": {},
     "output_type": "execute_result"
    }
   ],
   "source": []
  },
  {
   "cell_type": "code",
   "execution_count": 13,
   "id": "af013381-3c56-43dc-9648-19b99d5abfa6",
   "metadata": {},
   "outputs": [
    {
     "ename": "KeyboardInterrupt",
     "evalue": "",
     "output_type": "error",
     "traceback": [
      "\u001b[0;31m---------------------------------------------------------------------------\u001b[0m",
      "\u001b[0;31mKeyboardInterrupt\u001b[0m                         Traceback (most recent call last)",
      "Cell \u001b[0;32mIn[13], line 2\u001b[0m\n\u001b[1;32m      1\u001b[0m \u001b[38;5;66;03m# Convert to DataFrame\u001b[39;00m\n\u001b[0;32m----> 2\u001b[0m df \u001b[38;5;241m=\u001b[39m pd\u001b[38;5;241m.\u001b[39mDataFrame(train_dataset)\n",
      "File \u001b[0;32m/opt/anaconda3/lib/python3.11/site-packages/pandas/core/frame.py:798\u001b[0m, in \u001b[0;36mDataFrame.__init__\u001b[0;34m(self, data, index, columns, dtype, copy)\u001b[0m\n\u001b[1;32m    796\u001b[0m         data \u001b[38;5;241m=\u001b[39m np\u001b[38;5;241m.\u001b[39masarray(data)\n\u001b[1;32m    797\u001b[0m     \u001b[38;5;28;01melse\u001b[39;00m:\n\u001b[0;32m--> 798\u001b[0m         data \u001b[38;5;241m=\u001b[39m \u001b[38;5;28mlist\u001b[39m(data)\n\u001b[1;32m    799\u001b[0m \u001b[38;5;28;01mif\u001b[39;00m \u001b[38;5;28mlen\u001b[39m(data) \u001b[38;5;241m>\u001b[39m \u001b[38;5;241m0\u001b[39m:\n\u001b[1;32m    800\u001b[0m     \u001b[38;5;28;01mif\u001b[39;00m is_dataclass(data[\u001b[38;5;241m0\u001b[39m]):\n",
      "File \u001b[0;32m/opt/anaconda3/lib/python3.11/site-packages/datasets/arrow_dataset.py:2372\u001b[0m, in \u001b[0;36mDataset.__iter__\u001b[0;34m(self)\u001b[0m\n\u001b[1;32m   2370\u001b[0m         \u001b[38;5;28;01mfor\u001b[39;00m i \u001b[38;5;129;01min\u001b[39;00m \u001b[38;5;28mrange\u001b[39m(pa_subtable\u001b[38;5;241m.\u001b[39mnum_rows):\n\u001b[1;32m   2371\u001b[0m             pa_subtable_ex \u001b[38;5;241m=\u001b[39m pa_subtable\u001b[38;5;241m.\u001b[39mslice(i, \u001b[38;5;241m1\u001b[39m)\n\u001b[0;32m-> 2372\u001b[0m             formatted_output \u001b[38;5;241m=\u001b[39m format_table(\n\u001b[1;32m   2373\u001b[0m                 pa_subtable_ex,\n\u001b[1;32m   2374\u001b[0m                 \u001b[38;5;241m0\u001b[39m,\n\u001b[1;32m   2375\u001b[0m                 formatter\u001b[38;5;241m=\u001b[39mformatter,\n\u001b[1;32m   2376\u001b[0m                 format_columns\u001b[38;5;241m=\u001b[39m\u001b[38;5;28mself\u001b[39m\u001b[38;5;241m.\u001b[39m_format_columns,\n\u001b[1;32m   2377\u001b[0m                 output_all_columns\u001b[38;5;241m=\u001b[39m\u001b[38;5;28mself\u001b[39m\u001b[38;5;241m.\u001b[39m_output_all_columns,\n\u001b[1;32m   2378\u001b[0m             )\n\u001b[1;32m   2379\u001b[0m             \u001b[38;5;28;01myield\u001b[39;00m formatted_output\n\u001b[1;32m   2380\u001b[0m \u001b[38;5;28;01melse\u001b[39;00m:\n",
      "File \u001b[0;32m/opt/anaconda3/lib/python3.11/site-packages/datasets/formatting/formatting.py:639\u001b[0m, in \u001b[0;36mformat_table\u001b[0;34m(table, key, formatter, format_columns, output_all_columns)\u001b[0m\n\u001b[1;32m    637\u001b[0m python_formatter \u001b[38;5;241m=\u001b[39m PythonFormatter(features\u001b[38;5;241m=\u001b[39mformatter\u001b[38;5;241m.\u001b[39mfeatures)\n\u001b[1;32m    638\u001b[0m \u001b[38;5;28;01mif\u001b[39;00m format_columns \u001b[38;5;129;01mis\u001b[39;00m \u001b[38;5;28;01mNone\u001b[39;00m:\n\u001b[0;32m--> 639\u001b[0m     \u001b[38;5;28;01mreturn\u001b[39;00m formatter(pa_table, query_type\u001b[38;5;241m=\u001b[39mquery_type)\n\u001b[1;32m    640\u001b[0m \u001b[38;5;28;01melif\u001b[39;00m query_type \u001b[38;5;241m==\u001b[39m \u001b[38;5;124m\"\u001b[39m\u001b[38;5;124mcolumn\u001b[39m\u001b[38;5;124m\"\u001b[39m:\n\u001b[1;32m    641\u001b[0m     \u001b[38;5;28;01mif\u001b[39;00m key \u001b[38;5;129;01min\u001b[39;00m format_columns:\n",
      "File \u001b[0;32m/opt/anaconda3/lib/python3.11/site-packages/datasets/formatting/formatting.py:403\u001b[0m, in \u001b[0;36mFormatter.__call__\u001b[0;34m(self, pa_table, query_type)\u001b[0m\n\u001b[1;32m    401\u001b[0m \u001b[38;5;28;01mdef\u001b[39;00m \u001b[38;5;21m__call__\u001b[39m(\u001b[38;5;28mself\u001b[39m, pa_table: pa\u001b[38;5;241m.\u001b[39mTable, query_type: \u001b[38;5;28mstr\u001b[39m) \u001b[38;5;241m-\u001b[39m\u001b[38;5;241m>\u001b[39m Union[RowFormat, ColumnFormat, BatchFormat]:\n\u001b[1;32m    402\u001b[0m     \u001b[38;5;28;01mif\u001b[39;00m query_type \u001b[38;5;241m==\u001b[39m \u001b[38;5;124m\"\u001b[39m\u001b[38;5;124mrow\u001b[39m\u001b[38;5;124m\"\u001b[39m:\n\u001b[0;32m--> 403\u001b[0m         \u001b[38;5;28;01mreturn\u001b[39;00m \u001b[38;5;28mself\u001b[39m\u001b[38;5;241m.\u001b[39mformat_row(pa_table)\n\u001b[1;32m    404\u001b[0m     \u001b[38;5;28;01melif\u001b[39;00m query_type \u001b[38;5;241m==\u001b[39m \u001b[38;5;124m\"\u001b[39m\u001b[38;5;124mcolumn\u001b[39m\u001b[38;5;124m\"\u001b[39m:\n\u001b[1;32m    405\u001b[0m         \u001b[38;5;28;01mreturn\u001b[39;00m \u001b[38;5;28mself\u001b[39m\u001b[38;5;241m.\u001b[39mformat_column(pa_table)\n",
      "File \u001b[0;32m/opt/anaconda3/lib/python3.11/site-packages/datasets/formatting/formatting.py:443\u001b[0m, in \u001b[0;36mPythonFormatter.format_row\u001b[0;34m(self, pa_table)\u001b[0m\n\u001b[1;32m    441\u001b[0m \u001b[38;5;28;01mif\u001b[39;00m \u001b[38;5;28mself\u001b[39m\u001b[38;5;241m.\u001b[39mlazy:\n\u001b[1;32m    442\u001b[0m     \u001b[38;5;28;01mreturn\u001b[39;00m LazyRow(pa_table, \u001b[38;5;28mself\u001b[39m)\n\u001b[0;32m--> 443\u001b[0m row \u001b[38;5;241m=\u001b[39m \u001b[38;5;28mself\u001b[39m\u001b[38;5;241m.\u001b[39mpython_arrow_extractor()\u001b[38;5;241m.\u001b[39mextract_row(pa_table)\n\u001b[1;32m    444\u001b[0m row \u001b[38;5;241m=\u001b[39m \u001b[38;5;28mself\u001b[39m\u001b[38;5;241m.\u001b[39mpython_features_decoder\u001b[38;5;241m.\u001b[39mdecode_row(row)\n\u001b[1;32m    445\u001b[0m \u001b[38;5;28;01mreturn\u001b[39;00m row\n",
      "File \u001b[0;32m/opt/anaconda3/lib/python3.11/site-packages/datasets/formatting/formatting.py:145\u001b[0m, in \u001b[0;36mPythonArrowExtractor.extract_row\u001b[0;34m(self, pa_table)\u001b[0m\n\u001b[1;32m    144\u001b[0m \u001b[38;5;28;01mdef\u001b[39;00m \u001b[38;5;21mextract_row\u001b[39m(\u001b[38;5;28mself\u001b[39m, pa_table: pa\u001b[38;5;241m.\u001b[39mTable) \u001b[38;5;241m-\u001b[39m\u001b[38;5;241m>\u001b[39m \u001b[38;5;28mdict\u001b[39m:\n\u001b[0;32m--> 145\u001b[0m     \u001b[38;5;28;01mreturn\u001b[39;00m _unnest(pa_table\u001b[38;5;241m.\u001b[39mto_pydict())\n",
      "\u001b[0;31mKeyboardInterrupt\u001b[0m: "
     ]
    }
   ],
   "source": [
    "\n",
    "# Convert to DataFrame\n",
    "df = pd.DataFrame(train_dataset)\n"
   ]
  },
  {
   "cell_type": "code",
   "execution_count": 21,
   "id": "370eae14-ef6e-407a-8796-73844e3112f9",
   "metadata": {},
   "outputs": [],
   "source": [
    "import dask.dataframe as dd\n",
    "\n",
    "df = dd.read_parquet(\"hf://datasets/Artificio/WikiArt_Full/data/train-*-of-*.parquet\")"
   ]
  },
  {
   "cell_type": "code",
   "execution_count": 25,
   "id": "6605cc22-5416-4819-b4f0-837027ab1ad8",
   "metadata": {},
   "outputs": [
    {
     "name": "stdout",
     "output_type": "stream",
     "text": [
      "Collecting mlcroissant\n",
      "  Downloading mlcroissant-1.0.10-py2.py3-none-any.whl.metadata (10 kB)\n",
      "Collecting absl-py (from mlcroissant)\n",
      "  Downloading absl_py-2.1.0-py3-none-any.whl.metadata (2.3 kB)\n",
      "Collecting etils>=1.7.0 (from etils[epath]>=1.7.0->mlcroissant)\n",
      "  Downloading etils-1.10.0-py3-none-any.whl.metadata (6.5 kB)\n",
      "Collecting jsonpath-rw (from mlcroissant)\n",
      "  Downloading jsonpath-rw-1.4.0.tar.gz (13 kB)\n",
      "  Preparing metadata (setup.py) ... \u001b[?25ldone\n",
      "\u001b[?25hRequirement already satisfied: networkx in /opt/anaconda3/lib/python3.11/site-packages (from mlcroissant) (3.1)\n",
      "Requirement already satisfied: pandas in /opt/anaconda3/lib/python3.11/site-packages (from mlcroissant) (2.1.4)\n",
      "Collecting pandas-stubs (from mlcroissant)\n",
      "  Downloading pandas_stubs-2.2.3.241009-py3-none-any.whl.metadata (10.0 kB)\n",
      "Requirement already satisfied: python-dateutil in /opt/anaconda3/lib/python3.11/site-packages (from mlcroissant) (2.8.2)\n",
      "Collecting rdflib (from mlcroissant)\n",
      "  Downloading rdflib-7.1.0-py3-none-any.whl.metadata (11 kB)\n",
      "Requirement already satisfied: requests in /opt/anaconda3/lib/python3.11/site-packages (from mlcroissant) (2.32.3)\n",
      "Requirement already satisfied: tqdm in /opt/anaconda3/lib/python3.11/site-packages (from mlcroissant) (4.66.5)\n",
      "Requirement already satisfied: fsspec in /opt/anaconda3/lib/python3.11/site-packages (from etils[epath]>=1.7.0->mlcroissant) (2023.10.0)\n",
      "Collecting importlib_resources (from etils[epath]>=1.7.0->mlcroissant)\n",
      "  Downloading importlib_resources-6.4.5-py3-none-any.whl.metadata (4.0 kB)\n",
      "Requirement already satisfied: typing_extensions in /opt/anaconda3/lib/python3.11/site-packages (from etils[epath]>=1.7.0->mlcroissant) (4.9.0)\n",
      "Requirement already satisfied: zipp in /opt/anaconda3/lib/python3.11/site-packages (from etils[epath]>=1.7.0->mlcroissant) (3.17.0)\n",
      "Requirement already satisfied: ply in /opt/anaconda3/lib/python3.11/site-packages (from jsonpath-rw->mlcroissant) (3.11)\n",
      "Requirement already satisfied: decorator in /opt/anaconda3/lib/python3.11/site-packages (from jsonpath-rw->mlcroissant) (5.1.1)\n",
      "Requirement already satisfied: six in /opt/anaconda3/lib/python3.11/site-packages (from jsonpath-rw->mlcroissant) (1.16.0)\n",
      "Requirement already satisfied: numpy<2,>=1.23.2 in /opt/anaconda3/lib/python3.11/site-packages (from pandas->mlcroissant) (1.26.4)\n",
      "Requirement already satisfied: pytz>=2020.1 in /opt/anaconda3/lib/python3.11/site-packages (from pandas->mlcroissant) (2023.3.post1)\n",
      "Requirement already satisfied: tzdata>=2022.1 in /opt/anaconda3/lib/python3.11/site-packages (from pandas->mlcroissant) (2023.3)\n",
      "Collecting types-pytz>=2022.1.1 (from pandas-stubs->mlcroissant)\n",
      "  Downloading types_pytz-2024.2.0.20241003-py3-none-any.whl.metadata (1.6 kB)\n",
      "Collecting html5lib-modern<2.0,>=1.2 (from rdflib->mlcroissant)\n",
      "  Downloading html5lib_modern-1.2-py2.py3-none-any.whl.metadata (7.8 kB)\n",
      "Requirement already satisfied: pyparsing<4,>=2.1.0 in /opt/anaconda3/lib/python3.11/site-packages (from rdflib->mlcroissant) (3.0.9)\n",
      "Requirement already satisfied: charset-normalizer<4,>=2 in /opt/anaconda3/lib/python3.11/site-packages (from requests->mlcroissant) (2.0.4)\n",
      "Requirement already satisfied: idna<4,>=2.5 in /opt/anaconda3/lib/python3.11/site-packages (from requests->mlcroissant) (3.4)\n",
      "Requirement already satisfied: urllib3<3,>=1.21.1 in /opt/anaconda3/lib/python3.11/site-packages (from requests->mlcroissant) (2.0.7)\n",
      "Requirement already satisfied: certifi>=2017.4.17 in /opt/anaconda3/lib/python3.11/site-packages (from requests->mlcroissant) (2024.2.2)\n",
      "Downloading mlcroissant-1.0.10-py2.py3-none-any.whl (136 kB)\n",
      "\u001b[2K   \u001b[90m━━━━━━━━━━━━━━━━━━━━━━━━━━━━━━━━━━━━━━━━\u001b[0m \u001b[32m136.5/136.5 kB\u001b[0m \u001b[31m1.3 MB/s\u001b[0m eta \u001b[36m0:00:00\u001b[0m00:01\u001b[0m0:01\u001b[0m\n",
      "\u001b[?25hDownloading etils-1.10.0-py3-none-any.whl (164 kB)\n",
      "\u001b[2K   \u001b[90m━━━━━━━━━━━━━━━━━━━━━━━━━━━━━━━━━━━━━━━━\u001b[0m \u001b[32m164.9/164.9 kB\u001b[0m \u001b[31m8.3 MB/s\u001b[0m eta \u001b[36m0:00:00\u001b[0m\n",
      "\u001b[?25hDownloading absl_py-2.1.0-py3-none-any.whl (133 kB)\n",
      "\u001b[2K   \u001b[90m━━━━━━━━━━━━━━━━━━━━━━━━━━━━━━━━━━━━━━━━\u001b[0m \u001b[32m133.7/133.7 kB\u001b[0m \u001b[31m13.4 MB/s\u001b[0m eta \u001b[36m0:00:00\u001b[0m\n",
      "\u001b[?25hDownloading pandas_stubs-2.2.3.241009-py3-none-any.whl (157 kB)\n",
      "\u001b[2K   \u001b[90m━━━━━━━━━━━━━━━━━━━━━━━━━━━━━━━━━━━━━━━━\u001b[0m \u001b[32m157.9/157.9 kB\u001b[0m \u001b[31m11.3 MB/s\u001b[0m eta \u001b[36m0:00:00\u001b[0m\n",
      "\u001b[?25hDownloading rdflib-7.1.0-py3-none-any.whl (562 kB)\n",
      "\u001b[2K   \u001b[90m━━━━━━━━━━━━━━━━━━━━━━━━━━━━━━━━━━━━━━━━\u001b[0m \u001b[32m562.1/562.1 kB\u001b[0m \u001b[31m16.9 MB/s\u001b[0m eta \u001b[36m0:00:00\u001b[0m\n",
      "\u001b[?25hDownloading html5lib_modern-1.2-py2.py3-none-any.whl (116 kB)\n",
      "\u001b[2K   \u001b[90m━━━━━━━━━━━━━━━━━━━━━━━━━━━━━━━━━━━━━━━━\u001b[0m \u001b[32m116.2/116.2 kB\u001b[0m \u001b[31m10.5 MB/s\u001b[0m eta \u001b[36m0:00:00\u001b[0m\n",
      "\u001b[?25hDownloading types_pytz-2024.2.0.20241003-py3-none-any.whl (5.2 kB)\n",
      "Downloading importlib_resources-6.4.5-py3-none-any.whl (36 kB)\n",
      "Building wheels for collected packages: jsonpath-rw\n",
      "  Building wheel for jsonpath-rw (setup.py) ... \u001b[?25ldone\n",
      "\u001b[?25h  Created wheel for jsonpath-rw: filename=jsonpath_rw-1.4.0-py3-none-any.whl size=15127 sha256=4f01a899b8518d28bc41a983ad84b85d70a690270939b10b9dae602f0879a159\n",
      "  Stored in directory: /Users/gabriellepark/Library/Caches/pip/wheels/53/cf/51/a4ea10224b7fdb523e18e2033cadf2a8657517d1f95f3f5413\n",
      "Successfully built jsonpath-rw\n",
      "Installing collected packages: types-pytz, jsonpath-rw, importlib_resources, html5lib-modern, etils, absl-py, rdflib, pandas-stubs, mlcroissant\n",
      "Successfully installed absl-py-2.1.0 etils-1.10.0 html5lib-modern-1.2 importlib_resources-6.4.5 jsonpath-rw-1.4.0 mlcroissant-1.0.10 pandas-stubs-2.2.3.241009 rdflib-7.1.0 types-pytz-2024.2.0.20241003\n",
      "Note: you may need to restart the kernel to use updated packages.\n"
     ]
    }
   ],
   "source": [
    "pip install mlcroissant"
   ]
  },
  {
   "cell_type": "code",
   "execution_count": 26,
   "id": "6e801dc6-8367-4c78-91e5-ce510ae78701",
   "metadata": {},
   "outputs": [
    {
     "name": "stderr",
     "output_type": "stream",
     "text": [
      "WARNING:absl:WARNING: The JSON-LD `@context` is not standard. Refer to the official @context (e.g., from the example datasets in https://github.com/mlcommons/croissant/tree/main/datasets/1.0). The different keys are: {'examples', 'rai'}\n",
      "WARNING:absl:Found the following 4 warning(s) during the validation:\n",
      "  -  [Metadata(WikiArt_Full)] Property \"http://mlcommons.org/croissant/citeAs\" is recommended, but does not exist.\n",
      "  -  [Metadata(WikiArt_Full)] Property \"https://schema.org/datePublished\" is recommended, but does not exist.\n",
      "  -  [Metadata(WikiArt_Full)] Property \"https://schema.org/license\" is recommended, but does not exist.\n",
      "  -  [Metadata(WikiArt_Full)] Property \"https://schema.org/version\" is recommended, but does not exist.\n"
     ]
    }
   ],
   "source": [
    "from mlcroissant import Dataset\n",
    "\n",
    "ds = Dataset(jsonld=\"https://huggingface.co/api/datasets/Artificio/WikiArt_Full/croissant\")\n",
    "records = ds.records(\"default\")"
   ]
  }
 ],
 "metadata": {
  "kernelspec": {
   "display_name": "Python 3 (ipykernel)",
   "language": "python",
   "name": "python3"
  },
  "language_info": {
   "codemirror_mode": {
    "name": "ipython",
    "version": 3
   },
   "file_extension": ".py",
   "mimetype": "text/x-python",
   "name": "python",
   "nbconvert_exporter": "python",
   "pygments_lexer": "ipython3",
   "version": "3.11.7"
  }
 },
 "nbformat": 4,
 "nbformat_minor": 5
}
